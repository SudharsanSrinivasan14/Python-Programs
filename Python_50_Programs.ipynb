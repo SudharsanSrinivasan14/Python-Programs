{
  "nbformat": 4,
  "nbformat_minor": 0,
  "metadata": {
    "colab": {
      "provenance": [],
      "include_colab_link": true
    },
    "kernelspec": {
      "name": "python3",
      "display_name": "Python 3"
    },
    "language_info": {
      "name": "python"
    }
  },
  "cells": [
    {
      "cell_type": "markdown",
      "metadata": {
        "id": "view-in-github",
        "colab_type": "text"
      },
      "source": [
        "<a href=\"https://colab.research.google.com/github/SudharsanSrinivasan14/Python-Programs/blob/main/Python_50_Programs.ipynb\" target=\"_parent\"><img src=\"https://colab.research.google.com/assets/colab-badge.svg\" alt=\"Open In Colab\"/></a>"
      ]
    },
    {
      "cell_type": "code",
      "execution_count": null,
      "metadata": {
        "colab": {
          "base_uri": "https://localhost:8080/"
        },
        "id": "8EzWnXIDqWpX",
        "outputId": "2d51800e-babe-4c82-ea84-9a0f7b2ed2d2"
      },
      "outputs": [
        {
          "output_type": "stream",
          "name": "stdout",
          "text": [
            "Giva a number :10\n",
            "area of the circle is 314.0\n"
          ]
        }
      ],
      "source": [
        "# 1 . area of circle\n",
        "pi=3.14\n",
        "r=int(input('Give a number :'))\n",
        "area=pi*r*r\n",
        "print('area of the circle is',area)"
      ]
    },
    {
      "cell_type": "code",
      "source": [
        "# 2 . area of the rectangle\n",
        "l=int(input('Give L :'))\n",
        "b=int(input('Give B :'))\n",
        "area=l*b\n",
        "print('area of the rectangle is',area)\n"
      ],
      "metadata": {
        "colab": {
          "base_uri": "https://localhost:8080/"
        },
        "id": "68grIwM7quVo",
        "outputId": "a1a63d3f-bf2c-4f44-bd3a-8dcf7a31c315"
      },
      "execution_count": null,
      "outputs": [
        {
          "output_type": "stream",
          "name": "stdout",
          "text": [
            "Give L :5\n",
            "Give B :6\n",
            "area of the rectangle is 30\n"
          ]
        }
      ]
    },
    {
      "cell_type": "code",
      "source": [
        "# 3 . area of the triangle\n",
        "b=int(input('Give B :'))\n",
        "h=int(input('Give H :'))\n",
        "area=1/2*b*h\n",
        "print('area of the triangle', area)"
      ],
      "metadata": {
        "colab": {
          "base_uri": "https://localhost:8080/"
        },
        "id": "Ykc0oYZiq1-S",
        "outputId": "c56c79e4-1c64-40aa-b508-d7322e65159a"
      },
      "execution_count": null,
      "outputs": [
        {
          "output_type": "stream",
          "name": "stdout",
          "text": [
            "Give B :4\n",
            "Give H :6\n",
            "area of the triangle 12.0\n"
          ]
        }
      ]
    },
    {
      "cell_type": "code",
      "source": [
        "# 4 . Arithmetic Operators of 2 Numbers\n",
        "a=int(input('Give A :'))\n",
        "b=int(input('Give B :'))\n",
        "#Addition\n",
        "c=a+b\n",
        "print('addition is',c)\n",
        "#subtraction\n",
        "d=a-b\n",
        "print('subtraction is',d)\n",
        "#multiplication\n",
        "e=a*b\n",
        "print('multiplcation is',e)\n",
        "#division\n",
        "f=a/b\n",
        "print('division is',f)\n",
        "#floor division\n",
        "g=a//b\n",
        "print('floor division is',g)\n",
        "#module\n",
        "h=a%b\n",
        "print('module is',h)"
      ],
      "metadata": {
        "colab": {
          "base_uri": "https://localhost:8080/"
        },
        "id": "JrvDRXcOsGi_",
        "outputId": "41c63372-3400-49b2-8fea-ed47ef670029"
      },
      "execution_count": null,
      "outputs": [
        {
          "output_type": "stream",
          "name": "stdout",
          "text": [
            "Give A :10\n",
            "Give B :5\n",
            "addition is 15\n",
            "subtraction is 5\n",
            "multiplcation is 50\n",
            "division is 2.0\n",
            "floor division is 2\n",
            "module is 0\n"
          ]
        }
      ]
    },
    {
      "cell_type": "code",
      "source": [
        "# 5 . print the table for the given number and for the given range\n",
        "\n",
        "num= int(input(\"ending value: \"))\n",
        "a= int(input(\"table value: \"))\n",
        "for i in range (1,num,1):\n",
        "    print(i,'x',a,'=', i*a)"
      ],
      "metadata": {
        "colab": {
          "base_uri": "https://localhost:8080/"
        },
        "id": "zemMGoBAsGfz",
        "outputId": "472f45a1-9a5f-4ce3-b18e-73355ffb949d"
      },
      "execution_count": null,
      "outputs": [
        {
          "output_type": "stream",
          "name": "stdout",
          "text": [
            "ending value: 20\n",
            "table value: 9\n",
            "1 x 9 = 9\n",
            "2 x 9 = 18\n",
            "3 x 9 = 27\n",
            "4 x 9 = 36\n",
            "5 x 9 = 45\n",
            "6 x 9 = 54\n",
            "7 x 9 = 63\n",
            "8 x 9 = 72\n",
            "9 x 9 = 81\n",
            "10 x 9 = 90\n",
            "11 x 9 = 99\n",
            "12 x 9 = 108\n",
            "13 x 9 = 117\n",
            "14 x 9 = 126\n",
            "15 x 9 = 135\n",
            "16 x 9 = 144\n",
            "17 x 9 = 153\n",
            "18 x 9 = 162\n",
            "19 x 9 = 171\n"
          ]
        }
      ]
    },
    {
      "cell_type": "code",
      "source": [
        "# 6 . print the table for the given starting and ending number and for the given table\n",
        "a= int(input(\"starting value: \"))\n",
        "b= int(input(\"ending value: \"))\n",
        "c= int(input(\"table value: \"))\n",
        "for i in range (a,b,1):\n",
        "    print(i,'x',c,'=', i*c)"
      ],
      "metadata": {
        "colab": {
          "base_uri": "https://localhost:8080/"
        },
        "id": "kn9QfC0esGQu",
        "outputId": "799998b7-a61d-4db0-8b7e-aaa1beaa4c60"
      },
      "execution_count": null,
      "outputs": [
        {
          "output_type": "stream",
          "name": "stdout",
          "text": [
            "starting value: 5\n",
            "ending value: 10\n",
            "table value: 5\n",
            "5 x 5 = 25\n",
            "6 x 5 = 30\n",
            "7 x 5 = 35\n",
            "8 x 5 = 40\n",
            "9 x 5 = 45\n"
          ]
        }
      ]
    },
    {
      "cell_type": "code",
      "source": [
        "# 7 . Disply the cube of the number up to an integer.\n",
        "a=int(input('Give a starting number: '))\n",
        "b=int(input('Give a ending number: '))\n",
        "for i in range (a,b):\n",
        "    print('cube of the number', (i+0),'is :',i*i*i)"
      ],
      "metadata": {
        "colab": {
          "base_uri": "https://localhost:8080/"
        },
        "id": "nfFsMTPjuYO1",
        "outputId": "49cc3990-ba51-446f-978c-f8e82e9cc9b6"
      },
      "execution_count": null,
      "outputs": [
        {
          "output_type": "stream",
          "name": "stdout",
          "text": [
            "Give a starting number: 5\n",
            "Give a ending number: 9\n",
            "cube of the number 5 is : 125\n",
            "cube of the number 6 is : 216\n",
            "cube of the number 7 is : 343\n",
            "cube of the number 8 is : 512\n"
          ]
        }
      ]
    },
    {
      "cell_type": "code",
      "source": [
        "# 8 . Display 'n' terms of natural numbers and their sum\n",
        "a= int(input(\"ending value: \"))\n",
        "for i in range (0,a):\n",
        "    i=i+1\n",
        "    print(i)"
      ],
      "metadata": {
        "colab": {
          "base_uri": "https://localhost:8080/"
        },
        "id": "39m7IQt2usSk",
        "outputId": "6bb4ec84-2659-45cb-97a0-c521f88f67b9"
      },
      "execution_count": null,
      "outputs": [
        {
          "output_type": "stream",
          "name": "stdout",
          "text": [
            "ending value: 6\n",
            "1\n",
            "2\n",
            "3\n",
            "4\n",
            "5\n",
            "6\n"
          ]
        }
      ]
    },
    {
      "cell_type": "code",
      "source": [
        "# 9 . Print one month - day attendance - week order\n",
        "for i in range (1,5):\n",
        "    print('Week:',i)\n",
        "    for j in range(1,8):\n",
        "        print('Day:',j)\n"
      ],
      "metadata": {
        "colab": {
          "base_uri": "https://localhost:8080/"
        },
        "id": "z33I_xctusPB",
        "outputId": "daf75aab-be17-4328-a442-c8b168716eef"
      },
      "execution_count": null,
      "outputs": [
        {
          "output_type": "stream",
          "name": "stdout",
          "text": [
            "Week: 1\n",
            "Day: 1\n",
            "Day: 2\n",
            "Day: 3\n",
            "Day: 4\n",
            "Day: 5\n",
            "Day: 6\n",
            "Day: 7\n",
            "Week: 2\n",
            "Day: 1\n",
            "Day: 2\n",
            "Day: 3\n",
            "Day: 4\n",
            "Day: 5\n",
            "Day: 6\n",
            "Day: 7\n",
            "Week: 3\n",
            "Day: 1\n",
            "Day: 2\n",
            "Day: 3\n",
            "Day: 4\n",
            "Day: 5\n",
            "Day: 6\n",
            "Day: 7\n",
            "Week: 4\n",
            "Day: 1\n",
            "Day: 2\n",
            "Day: 3\n",
            "Day: 4\n",
            "Day: 5\n",
            "Day: 6\n",
            "Day: 7\n"
          ]
        }
      ]
    },
    {
      "cell_type": "code",
      "source": [
        "# 10 . Print Numbers Pattern\n",
        "n=int(input(\"Give a number : \"))\n",
        "for i in range (1,n+1):\n",
        "    print()\n",
        "    for j in range(1,i+1):\n",
        "        print(j,end=\"\")"
      ],
      "metadata": {
        "colab": {
          "base_uri": "https://localhost:8080/"
        },
        "id": "e89ilhwcusL5",
        "outputId": "131b9b74-3919-4c55-ec48-72e253ae1474"
      },
      "execution_count": null,
      "outputs": [
        {
          "output_type": "stream",
          "name": "stdout",
          "text": [
            "Give a number : 10\n",
            "\n",
            "1\n",
            "12\n",
            "123\n",
            "1234\n",
            "12345\n",
            "123456\n",
            "1234567\n",
            "12345678\n",
            "123456789\n",
            "12345678910"
          ]
        }
      ]
    },
    {
      "cell_type": "code",
      "source": [
        "# 11 . check odd or even number for two numbers\n",
        "a=int(input(\"input A:\"))\n",
        "b=int(input(\"input B:\"))\n",
        "if (a%2)==0:\n",
        "    print(\"A is a even number\")\n",
        "elif (a==0):\n",
        "    print(\"A is Zero\")\n",
        "else:\n",
        "    print(\"A is a odd number\")\n",
        "if (b%2)==0:\n",
        "    print(\"B is a even number\")\n",
        "elif (b==0):\n",
        "    print(\"B is Zero\")\n",
        "else:\n",
        "    print(\"B is a odd number\")"
      ],
      "metadata": {
        "colab": {
          "base_uri": "https://localhost:8080/"
        },
        "id": "yvGI8U-EzX5A",
        "outputId": "9d34a72f-f1fb-4538-de26-f7139c9f80e9"
      },
      "execution_count": null,
      "outputs": [
        {
          "output_type": "stream",
          "name": "stdout",
          "text": [
            "input A:10\n",
            "input B:5\n",
            "A is a even number\n",
            "B is a odd number\n"
          ]
        }
      ]
    },
    {
      "cell_type": "code",
      "source": [
        "# 12 . positive or negative for two numbers\n",
        "a=int(input(\"A value=\"))\n",
        "b=int(input(\"B value=\"))\n",
        "if (a<0):\n",
        "    print(\"A is a negative\")\n",
        "elif(a==0):\n",
        "    print(\"A is a zero\")\n",
        "else:\n",
        "    print(\"A is a positive\")\n",
        "if (b<0):\n",
        "    print(\"B is a negative\")\n",
        "elif(b==0):\n",
        "    print(\"B is a zero\")\n",
        "else:\n",
        "    print(\"B is a positive\")"
      ],
      "metadata": {
        "colab": {
          "base_uri": "https://localhost:8080/"
        },
        "id": "M9LiDM8-0EjV",
        "outputId": "322732ec-f54c-4344-be6d-3e70d8365ada"
      },
      "execution_count": null,
      "outputs": [
        {
          "output_type": "stream",
          "name": "stdout",
          "text": [
            "A value=5\n",
            "B value=-14\n",
            "A is a positive\n",
            "B is a negative\n"
          ]
        }
      ]
    },
    {
      "cell_type": "code",
      "source": [
        "# 13 . check odd or even number up to an given integer.\n",
        "a=int(input(\"input A:\"))\n",
        "b=int(input(\"input B:\"))\n",
        "for i in range (a,b):\n",
        "  if (i%2)==0:\n",
        "    print(i,\" is a even number\")\n",
        "  elif (i==0):\n",
        "    print(i,\" is Zero\")\n",
        "  else:\n",
        "    print(i,\" is a odd number\")\n",
        "i+=1"
      ],
      "metadata": {
        "colab": {
          "base_uri": "https://localhost:8080/"
        },
        "id": "om-07HIz0cpS",
        "outputId": "9a4620b0-9e7c-417b-bd09-914d67d39105"
      },
      "execution_count": null,
      "outputs": [
        {
          "output_type": "stream",
          "name": "stdout",
          "text": [
            "input A:6\n",
            "input B:9\n",
            "6  is a even number\n",
            "7  is a odd number\n",
            "8  is a even number\n"
          ]
        }
      ]
    },
    {
      "cell_type": "code",
      "source": [
        "# 14 . cube of the number\n",
        "a=int(input(\"A value=\"))\n",
        "print(\"cube of the number is:\",a*a*a)"
      ],
      "metadata": {
        "colab": {
          "base_uri": "https://localhost:8080/"
        },
        "id": "_Eki2jzk2Ady",
        "outputId": "f0a567d1-1547-4916-94d5-af140d2fbbed"
      },
      "execution_count": null,
      "outputs": [
        {
          "output_type": "stream",
          "name": "stdout",
          "text": [
            "A value=10\n",
            "cube of the number is: 1000\n"
          ]
        }
      ]
    },
    {
      "cell_type": "code",
      "source": [
        "# 15 . square of the number\n",
        "a=int(input(\"A value=\"))\n",
        "print(\"square of the number is:\",a*a)"
      ],
      "metadata": {
        "colab": {
          "base_uri": "https://localhost:8080/"
        },
        "id": "YXjrd2Hd2r0J",
        "outputId": "b93f027f-0bb3-4383-b761-e6127b12d87a"
      },
      "execution_count": null,
      "outputs": [
        {
          "output_type": "stream",
          "name": "stdout",
          "text": [
            "A value=10\n",
            "square of the number is: 100\n"
          ]
        }
      ]
    },
    {
      "cell_type": "code",
      "source": [
        "# 16 . check vowel or constant\n",
        "letter=(input(\"Give a Letter = \"))\n",
        "if (letter==\"a\" or letter==\"e\" or letter==\"i\" or letter==\"o\" or letter==\"u\"):\n",
        "    print(\"Letter is a vowel\")\n",
        "else:\n",
        "    print(\"Letter is a constant\")"
      ],
      "metadata": {
        "colab": {
          "base_uri": "https://localhost:8080/"
        },
        "id": "RwgVWshU2rw1",
        "outputId": "099f476f-d2d8-4edd-a79e-6a61ff66a30d"
      },
      "execution_count": null,
      "outputs": [
        {
          "output_type": "stream",
          "name": "stdout",
          "text": [
            "Give a Letter = i\n",
            "Letter is a vowel\n"
          ]
        }
      ]
    },
    {
      "cell_type": "code",
      "source": [
        "# 17 . Take student marks input and total\n",
        "Tam=int(input('Give the mark 1 :- '))\n",
        "Eng=int(input('Give the mark 2 :- '))\n",
        "Mat=int(input('Give the mark 3 :- '))\n",
        "Sci=int(input('Give the mark 4 :- '))\n",
        "Soc=int(input('Give the mark 5 :- '))\n",
        "print('\\n')\n",
        "print('            Town Hr Sec School            ')\n",
        "print('\\n')\n",
        "print('            MARK SHEET            ')\n",
        "Name=input('Give the Student name:- ')\n",
        "print('Class :- 10 ')\n",
        "print('Tamil\\t- ',Tam)\n",
        "print('English\\t- ',Eng)\n",
        "print('Maths\\t- ',Mat)\n",
        "print('Science\\t- ',Sci)\n",
        "print('Social\\t- ',Soc)\n",
        "print('---------------------------------')\n",
        "tot=Tam+Eng+Mat+Sci+Soc\n",
        "print('Total\\t- ',tot)\n",
        "print('\\n')\n",
        "print('***Thank you***')"
      ],
      "metadata": {
        "id": "-3Dm6rJ12ruj",
        "colab": {
          "base_uri": "https://localhost:8080/"
        },
        "outputId": "72fdb9ca-ec93-4bd1-bcdc-a03a19033736"
      },
      "execution_count": null,
      "outputs": [
        {
          "output_type": "stream",
          "name": "stdout",
          "text": [
            "Give the mark 1 :- 99\n",
            "Give the mark 2 :- 90\n",
            "Give the mark 3 :- 89\n",
            "Give the mark 4 :- 79\n",
            "Give the mark 5 :- 99\n",
            "\n",
            "\n",
            "            Town Hr Sec School            \n",
            "\n",
            "\n",
            "            MARK SHEET            \n",
            "Give the Student name:- Sudhan\n",
            "Class :- 10 \n",
            "Tamil\t-  99\n",
            "English\t-  90\n",
            "Maths\t-  89\n",
            "Science\t-  79\n",
            "Social\t-  99\n",
            "---------------------------------\n",
            "Total\t-  456\n",
            "\n",
            "\n",
            "***Thank you***\n"
          ]
        }
      ]
    },
    {
      "cell_type": "code",
      "source": [
        "# 18 . Bank account created\n",
        "name=input('Name of the customer:')\n",
        "age=int(input('age of the customer:'))\n",
        "pancard=input('pancard:')\n",
        "adhaar=int(input('adhaar:'))\n",
        "if(age>=18):\n",
        "    if(pancard != 'NO'):\n",
        "        if(adhaar !=0):\n",
        "            print('congrats',name,'your account has been created')\n",
        "        else:\n",
        "            print('sorry, need adhaar')\n",
        "    else:\n",
        "        print('sorry need PAN')\n",
        "else:\n",
        "    print('you are under age')"
      ],
      "metadata": {
        "id": "3wSq7GNj2rso",
        "colab": {
          "base_uri": "https://localhost:8080/"
        },
        "outputId": "a5b13943-7e7f-4019-8bb4-0f3656d12570"
      },
      "execution_count": null,
      "outputs": [
        {
          "output_type": "stream",
          "name": "stdout",
          "text": [
            "Name of the customer:Sudhan\n",
            "age of the customer:28\n",
            "pancard:Fe32567\n",
            "adhaar:212437434776478\n",
            "congrats Sudhan your account has been created\n"
          ]
        }
      ]
    },
    {
      "cell_type": "code",
      "source": [
        "# 19 . Maximum of three numbers\n",
        "x=int(input(\"Give the Num X \"))\n",
        "y=int(input(\"Give the Num Y \"))\n",
        "z=int(input(\"Give the Num Z \"))\n",
        "if (x>y and x>z):\n",
        "    print(x, \"is a big number.\")\n",
        "elif (y>x and y>z):\n",
        "    print(y, \"is a big number.\")\n",
        "else:\n",
        "    print(z, \"is a big number.\")"
      ],
      "metadata": {
        "colab": {
          "base_uri": "https://localhost:8080/"
        },
        "id": "hgBY-6vHs2HS",
        "outputId": "76b7ad0f-1202-40f2-929f-dc373201b75d"
      },
      "execution_count": null,
      "outputs": [
        {
          "output_type": "stream",
          "name": "stdout",
          "text": [
            "Give the Num X 34\n",
            "Give the Num Y 32\n",
            "Give the Num Z 45\n",
            "45 is a big number.\n"
          ]
        }
      ]
    },
    {
      "cell_type": "code",
      "source": [
        "# 20 . The Armstrong number from 1 to 1000\n",
        "start=1\n",
        "end=1000\n",
        "for num in range(start,end + 1):\n",
        "    sum=0\n",
        "    temp=num\n",
        "\n",
        "    while(temp>0):\n",
        "        digit=temp % 10\n",
        "        sum += digit ** 3\n",
        "        temp//=10\n",
        "\n",
        "    if(num==sum):\n",
        "        print(num)"
      ],
      "metadata": {
        "colab": {
          "base_uri": "https://localhost:8080/"
        },
        "id": "ontpvPoltGS3",
        "outputId": "02372bb7-167c-4dfd-b788-a0330e8c216f"
      },
      "execution_count": null,
      "outputs": [
        {
          "output_type": "stream",
          "name": "stdout",
          "text": [
            "1\n",
            "153\n",
            "370\n",
            "371\n",
            "407\n"
          ]
        }
      ]
    },
    {
      "cell_type": "code",
      "source": [
        "# 21 . To check whether the number is prime or not\n",
        "num=int(input(\"Give the Num: \"))\n",
        "for i in range(2,num):\n",
        "        if (num%i)==0:\n",
        "            print(\"It's a non-prime Number\")\n",
        "            break\n",
        "else:\n",
        "    print(\"It's a prime Number\")"
      ],
      "metadata": {
        "colab": {
          "base_uri": "https://localhost:8080/"
        },
        "id": "gnxdwtfntGPb",
        "outputId": "45ce9659-ba98-4649-dd68-f2f4541e4881"
      },
      "execution_count": null,
      "outputs": [
        {
          "output_type": "stream",
          "name": "stdout",
          "text": [
            "Give the Num: 29\n",
            "It's a prime Number\n"
          ]
        }
      ]
    },
    {
      "cell_type": "code",
      "source": [
        "# 22 . Kilo metre to miles\n",
        "km=int(input('Give the kilo metre : '))\n",
        "miles=km*0.621\n",
        "print(miles, \" miles\")"
      ],
      "metadata": {
        "colab": {
          "base_uri": "https://localhost:8080/"
        },
        "id": "a-4lJN_BtGNd",
        "outputId": "53701fee-a835-43ae-d5dd-c5d774a32b01"
      },
      "execution_count": null,
      "outputs": [
        {
          "output_type": "stream",
          "name": "stdout",
          "text": [
            "Give the kilo metre : 9\n",
            "5.589  miles\n"
          ]
        }
      ]
    },
    {
      "cell_type": "code",
      "source": [
        "# 23 . TO print fibonacci Series\n",
        "num=int(input(\"Give the Num \"))\n",
        "n1,n2=0,1\n",
        "print(\"fibonacci Series : \",n1,n2,end=\" \")\n",
        "for i in range (2,num):\n",
        "    n3=n1+n2\n",
        "    n1=n2\n",
        "    n2=n3\n",
        "    print(n3, end=\" \")"
      ],
      "metadata": {
        "colab": {
          "base_uri": "https://localhost:8080/"
        },
        "id": "2ZdrRJZwtGLR",
        "outputId": "8e96bb0a-d710-4e18-ad12-8ddffc4b665b"
      },
      "execution_count": null,
      "outputs": [
        {
          "output_type": "stream",
          "name": "stdout",
          "text": [
            "Give the Num 7\n",
            "fibonacci Series :  0 1 1 2 3 5 8 "
          ]
        }
      ]
    },
    {
      "cell_type": "code",
      "source": [
        "# 24 . set methods\n",
        "\n",
        "s1={12,23,34,56,45,67,43,23,56,74,93,46}\n",
        "\n",
        "print(s1)\n",
        "\n",
        "print(\"Length of list:-\")\n",
        "print(len(s1))\n",
        "print(\"Max of list:-\")\n",
        "print(max(s1))\n",
        "print(\"Min of list:-\")\n",
        "print(min(s1))\n",
        "\n",
        "s2=s1 #(copy method)\n",
        "s3=s1.copy() #(copy method)\n",
        "print(\"s2 list:-\")\n",
        "print(s2)\n",
        "print(\"s3 list:-\")\n",
        "print(s3)\n",
        "\n",
        "print(\"clear list s3:-\")\n",
        "s3.clear()\n",
        "print(s3)\n",
        "\n",
        "print(\"(add 101) list s2:-\")\n",
        "s2.add(101)\n",
        "print(s2)\n",
        "\n",
        "print(\"(add 23) list s3:-\")\n",
        "s3.add(23)\n",
        "print(s3)\n",
        "print(s1)\n",
        "\n",
        "print(\"(Discard 101) list s2:-\")\n",
        "s2.discard(101)\n",
        "print(s2)\n",
        "\n",
        "print(\"(Remove 34) list s1:-\")\n",
        "s1.remove(34)\n",
        "print(s1)\n",
        "\n",
        "print(\"pop list s1:-\")\n",
        "s1.pop()\n",
        "print(s1)"
      ],
      "metadata": {
        "colab": {
          "base_uri": "https://localhost:8080/"
        },
        "id": "tnKiOeXKty5s",
        "outputId": "65253c73-363d-4520-e959-09c08677602f"
      },
      "execution_count": null,
      "outputs": [
        {
          "output_type": "stream",
          "name": "stdout",
          "text": [
            "{34, 67, 74, 43, 12, 45, 46, 23, 56, 93}\n",
            "Length of list:-\n",
            "10\n",
            "Max of list:-\n",
            "93\n",
            "Min of list:-\n",
            "12\n",
            "s2 list:-\n",
            "{34, 67, 74, 43, 12, 45, 46, 23, 56, 93}\n",
            "s3 list:-\n",
            "{34, 67, 74, 43, 12, 45, 46, 23, 56, 93}\n",
            "clear list s3:-\n",
            "set()\n",
            "(add 101) list s2:-\n",
            "{34, 67, 101, 74, 43, 12, 45, 46, 23, 56, 93}\n",
            "(add 23) list s3:-\n",
            "{23}\n",
            "{34, 67, 101, 74, 43, 12, 45, 46, 23, 56, 93}\n",
            "(Discard 101) list s2:-\n",
            "{34, 67, 74, 43, 12, 45, 46, 23, 56, 93}\n",
            "(Remove 34) list s1:-\n",
            "{67, 74, 43, 12, 45, 46, 23, 56, 93}\n",
            "pop list s1:-\n",
            "{74, 43, 12, 45, 46, 23, 56, 93}\n"
          ]
        }
      ]
    },
    {
      "cell_type": "code",
      "source": [
        "# 25 . List\n",
        "n=int(input('Give the list number:- '))\n",
        "l1=[]\n",
        "for i in range(0,n):\n",
        "    num=int(input('Elements added:'))\n",
        "    l1.append(num)\n",
        "\n",
        "\n",
        "print(\"Insert 1000 @ 4th position:-\")\n",
        "l1.insert(3 ,1000)\n",
        "print(l1)\n",
        "\n",
        "print(\"Insert 2 new items @ end:-\")\n",
        "l1.append(33)\n",
        "l1.append(44)\n",
        "print(l1)\n",
        "\n",
        "print(\"Create another list:-\")\n",
        "l2=l1.copy( )\n",
        "print(\"print l1 is \\n\",l1)\n",
        "print(\"print l2 is \\n\",l2)\n",
        "\n",
        "print(\"Bring out the last element:-\")\n",
        "l1.pop( )\n",
        "print(l1)\n",
        "\n",
        "print(\"Delete the 33 element:-\")\n",
        "l1.remove(33)\n",
        "print(l1)\n",
        "\n",
        "print(\"Delete the 3th element:-\")\n",
        "l1.pop(3)\n",
        "print(l1)\n",
        "\n",
        "print(\"Reverse order:-\")\n",
        "l1.reverse( )\n",
        "print(l1)\n",
        "\n",
        "print(\"Re arrange order:-\")\n",
        "l1.sort( )\n",
        "print(l1)\n",
        "\n",
        "print(\"Delete element of the second list:-\")\n",
        "l2.clear( )\n",
        "print(l2)\n"
      ],
      "metadata": {
        "colab": {
          "base_uri": "https://localhost:8080/"
        },
        "id": "8uzI36Ztty3g",
        "outputId": "a8687bd4-dc3d-4ae1-fd21-0e973bb62095"
      },
      "execution_count": null,
      "outputs": [
        {
          "output_type": "stream",
          "name": "stdout",
          "text": [
            "Give the list number:- 5\n",
            "Elements added:54\n",
            "Elements added:43\n",
            "Elements added:44\n",
            "Elements added:32\n",
            "Elements added:67\n",
            "Insert 1000 @ 4th position:-\n",
            "[54, 43, 44, 1000, 32, 67]\n",
            "Insert 2 new items @ end:-\n",
            "[54, 43, 44, 1000, 32, 67, 33, 44]\n",
            "Create another list:-\n",
            "print l1 is \n",
            " [54, 43, 44, 1000, 32, 67, 33, 44]\n",
            "print l2 is \n",
            " [54, 43, 44, 1000, 32, 67, 33, 44]\n",
            "Bring out the last element:-\n",
            "[54, 43, 44, 1000, 32, 67, 33]\n",
            "Delete the 33 element:-\n",
            "[54, 43, 44, 1000, 32, 67]\n",
            "Delete the 3th element:-\n",
            "[54, 43, 44, 32, 67]\n",
            "Reverse order:-\n",
            "[67, 32, 44, 43, 54]\n",
            "Re arrange order:-\n",
            "[32, 43, 44, 54, 67]\n",
            "Delete element of the second list:-\n",
            "[]\n"
          ]
        }
      ]
    },
    {
      "cell_type": "code",
      "source": [
        "# 26 . Swap two numbers\n",
        "N1=int(input('Give a N1 : ') )\n",
        "N2=int(input('Give a N2 : ') )\n",
        "N1, N2 = N2, N1\n",
        "print('N1 is',  N1)\n",
        "print('N2 is',  N2)"
      ],
      "metadata": {
        "colab": {
          "base_uri": "https://localhost:8080/"
        },
        "id": "EWT0ANot6PJQ",
        "outputId": "372aa0a8-d5c7-40a1-9bd1-d5dd620b5ee2"
      },
      "execution_count": null,
      "outputs": [
        {
          "output_type": "stream",
          "name": "stdout",
          "text": [
            "Give a N1 : 23\n",
            "Give a N2 : 13\n",
            "N1 is 13\n",
            "N2 is 23\n"
          ]
        }
      ]
    },
    {
      "cell_type": "code",
      "source": [
        "# 27 . Reverse a string\n",
        "String_input=str(input('Give a string : '))\n",
        "Reversed_string=String_input [::-1]\n",
        "print(Reversed_string)"
      ],
      "metadata": {
        "colab": {
          "base_uri": "https://localhost:8080/"
        },
        "id": "nTFBDJhS6PVT",
        "outputId": "6996ac11-47fe-43a6-d8b1-e75c9d04bf39"
      },
      "execution_count": null,
      "outputs": [
        {
          "output_type": "stream",
          "name": "stdout",
          "text": [
            "Give a string : HAI\n",
            "IAH\n"
          ]
        }
      ]
    },
    {
      "cell_type": "code",
      "source": [
        "# 28 . String palindrome\n",
        "String_input = str(input('Give a string (Full Caps or small) : '))\n",
        "Reversed_string = String_input[::-1]\n",
        "String_palindrome = String_input == Reversed_string\n",
        "print(String_palindrome)"
      ],
      "metadata": {
        "colab": {
          "base_uri": "https://localhost:8080/"
        },
        "id": "22YeLg6j6PXr",
        "outputId": "151ad895-380e-4c2e-d83a-600efb5140ee"
      },
      "execution_count": null,
      "outputs": [
        {
          "output_type": "stream",
          "name": "stdout",
          "text": [
            "Give a string (Full Caps or small) : MADAM\n",
            "True\n"
          ]
        }
      ]
    },
    {
      "cell_type": "code",
      "source": [
        "# 29 . Current Time Calculate\n",
        "from datetime import datetime\n",
        "time = datetime.now().time()\n",
        "print(\"Current Time =\", time)"
      ],
      "metadata": {
        "colab": {
          "base_uri": "https://localhost:8080/"
        },
        "id": "OIM_QpHi6PaF",
        "outputId": "db63d0c1-3fc3-4f56-e478-387df4316087"
      },
      "execution_count": null,
      "outputs": [
        {
          "output_type": "stream",
          "name": "stdout",
          "text": [
            "Current Time = 09:07:00.070949\n"
          ]
        }
      ]
    },
    {
      "cell_type": "code",
      "source": [
        "# 30 . Age Calculator\n",
        "from datetime import datetime\n",
        "Date=int(input('Give a Date : ') )\n",
        "Month=int(input('Give a Month : ') )\n",
        "Year=int(input('Give a Year : ') )\n",
        "Dob = datetime(Year,Month,Date)\n",
        "Today=datetime.now()\n",
        "Days=Today-Dob\n",
        "Years = Days.days//365\n",
        "print(\"Your age is\",Years, \"Years\")"
      ],
      "metadata": {
        "colab": {
          "base_uri": "https://localhost:8080/"
        },
        "id": "UdAXfV0t6PcZ",
        "outputId": "98da2720-6a1d-4550-af0b-81eb1ff098fb"
      },
      "execution_count": null,
      "outputs": [
        {
          "output_type": "stream",
          "name": "stdout",
          "text": [
            "Give a Date : 14\n",
            "Give a Month : 06\n",
            "Give a Year : 1995\n",
            "Your age is 28 Years\n"
          ]
        }
      ]
    },
    {
      "cell_type": "code",
      "source": [
        "# 31 . Number palindrome\n",
        "num = int(input(\"Enter a number: \"))\n",
        "temp = num\n",
        "reverse = 0\n",
        "while temp > 0:\n",
        "    remainder = temp % 10\n",
        "    reverse = (reverse * 10) + remainder\n",
        "    temp = temp // 10\n",
        "if num == reverse:\n",
        "  print('Palindrome')\n",
        "else:\n",
        "  print(\"Not Palindrome\")"
      ],
      "metadata": {
        "colab": {
          "base_uri": "https://localhost:8080/"
        },
        "id": "hJ1j6BZi6Peq",
        "outputId": "39533d67-e2d4-4618-9ace-93f94e69958a"
      },
      "execution_count": null,
      "outputs": [
        {
          "output_type": "stream",
          "name": "stdout",
          "text": [
            "Enter a number: 3214\n",
            "Not Palindrome\n"
          ]
        }
      ]
    },
    {
      "cell_type": "code",
      "source": [
        "# 32 . Def. Maximum of two numbers\n",
        "def maximum(a, b):\n",
        "    if a >= b:\n",
        "        return a\n",
        "    else:\n",
        "        return b\n",
        "\n",
        "a = int(input(\"Enter a number: \"))\n",
        "b = int(input(\"Enter a number: \"))\n",
        "print(maximum (a,b))"
      ],
      "metadata": {
        "colab": {
          "base_uri": "https://localhost:8080/"
        },
        "id": "AL0pRL746PhB",
        "outputId": "f60dffa9-0df2-4f68-b97e-94bdfdb84823"
      },
      "execution_count": null,
      "outputs": [
        {
          "output_type": "stream",
          "name": "stdout",
          "text": [
            "Enter a number: 13\n",
            "Enter a number: 26\n",
            "26\n"
          ]
        }
      ]
    },
    {
      "cell_type": "code",
      "source": [
        "# 33 . Def. Minimum of two numbers\n",
        "def minimum(a, b):\n",
        "\n",
        "    if a <= b:\n",
        "        return a\n",
        "    else:\n",
        "        return b\n",
        "\n",
        "a = int(input(\"Enter a number: \"))\n",
        "b = int(input(\"Enter a number: \"))\n",
        "print(minimum(a, b))"
      ],
      "metadata": {
        "colab": {
          "base_uri": "https://localhost:8080/"
        },
        "id": "a85R3y-s6PjQ",
        "outputId": "b4f0191d-67d6-41ac-dd1f-6428dae4fe6b"
      },
      "execution_count": null,
      "outputs": [
        {
          "output_type": "stream",
          "name": "stdout",
          "text": [
            "Enter a number: 13\n",
            "Enter a number: 26\n",
            "13\n"
          ]
        }
      ]
    },
    {
      "cell_type": "code",
      "source": [
        "# 34 . Def. Maximum of three numbers\n",
        "def maximum(a, b, c):\n",
        "\n",
        "    if (a >= b) and (a >= c):\n",
        "        return a\n",
        "\n",
        "    elif (b >= a) and (b >= c):\n",
        "        return b\n",
        "    else:\n",
        "        return c\n",
        "\n",
        "a = int(input(\"Enter a number: \"))\n",
        "b = int(input(\"Enter a number: \"))\n",
        "c = int(input(\"Enter a number: \"))\n",
        "print(maximum(a, b, c))"
      ],
      "metadata": {
        "colab": {
          "base_uri": "https://localhost:8080/"
        },
        "id": "KKM7ao3l6Plr",
        "outputId": "51fd724c-a4a1-473d-a9ae-c3d53663024f"
      },
      "execution_count": null,
      "outputs": [
        {
          "output_type": "stream",
          "name": "stdout",
          "text": [
            "Enter a number: 13\n",
            "Enter a number: 26\n",
            "Enter a number: 39\n",
            "39\n"
          ]
        }
      ]
    },
    {
      "cell_type": "code",
      "source": [
        "# 35 . Def. Minimum of three numbers\n",
        "def minimum(a, b, c):\n",
        "\n",
        "    if (a <= b) and (a <= c):\n",
        "        return a\n",
        "\n",
        "    elif (b <= a) and (b <= c):\n",
        "        return b\n",
        "    else:\n",
        "        return c\n",
        "\n",
        "a = int(input(\"Enter a number: \"))\n",
        "b = int(input(\"Enter a number: \"))\n",
        "c = int(input(\"Enter a number: \"))\n",
        "print(minimum(a, b, c))"
      ],
      "metadata": {
        "colab": {
          "base_uri": "https://localhost:8080/"
        },
        "id": "psAxP7UU6PpE",
        "outputId": "02195c79-b140-4cb1-93b0-d061cd21c7a0"
      },
      "execution_count": null,
      "outputs": [
        {
          "output_type": "stream",
          "name": "stdout",
          "text": [
            "Enter a number: 13\n",
            "Enter a number: 26\n",
            "Enter a number: 39\n",
            "13\n"
          ]
        }
      ]
    },
    {
      "cell_type": "code",
      "source": [
        "# 36 . Def. SI\n",
        "def si (p,n,r):\n",
        "    si = (p*n*r)/100\n",
        "    print(si)\n",
        "p = int(input(\"Enter a P : \"))\n",
        "n = int(input(\"Enter a N : \"))\n",
        "r = int(input(\"Enter a R : \"))\n",
        "si(p,n,r)"
      ],
      "metadata": {
        "id": "SpuOmR1Y6Pv3",
        "colab": {
          "base_uri": "https://localhost:8080/"
        },
        "outputId": "78469aa8-866b-4ae4-bf68-4234451a88c7"
      },
      "execution_count": null,
      "outputs": [
        {
          "output_type": "stream",
          "name": "stdout",
          "text": [
            "Enter a P : 100\n",
            "Enter a N : 100\n",
            "Enter a R : 25\n",
            "2500.0\n"
          ]
        }
      ]
    },
    {
      "cell_type": "code",
      "source": [
        "# 37 . Def. Area Of Circle\n",
        "def aoc (r,pi=3.14):\n",
        "    aoc=(pi*r*r)\n",
        "    print(aoc)\n",
        "r = int(input(\"Enter a R : \"))\n",
        "aoc(r)"
      ],
      "metadata": {
        "id": "wIcuW8wG6QDy",
        "colab": {
          "base_uri": "https://localhost:8080/"
        },
        "outputId": "b115299d-f700-45d5-b172-0f156408a7d5"
      },
      "execution_count": null,
      "outputs": [
        {
          "output_type": "stream",
          "name": "stdout",
          "text": [
            "Enter a R : 5\n",
            "78.5\n"
          ]
        }
      ]
    },
    {
      "cell_type": "code",
      "source": [
        "# 38 . 3X^2 + 2Y - Z\n",
        "x = int(input('Givve the X value '))\n",
        "y = int(input('Give the Y value '))\n",
        "z = int(input('Givve the Z value '))\n",
        "s=(3*(x**2))+(2*y)-z\n",
        "print(s)"
      ],
      "metadata": {
        "colab": {
          "base_uri": "https://localhost:8080/"
        },
        "id": "nEzWcDixG-d8",
        "outputId": "773e6912-963f-46c1-cf25-5476413514c7"
      },
      "execution_count": null,
      "outputs": [
        {
          "output_type": "stream",
          "name": "stdout",
          "text": [
            "Givve the X value 25\n",
            "Give the Y value 25\n",
            "Givve the Z value 10\n",
            "1915\n"
          ]
        }
      ]
    },
    {
      "cell_type": "code",
      "source": [
        "# 39 . Def 3X^2 + 2Y + Z\n",
        "def a (x,y,z):\n",
        "  a = ((3* (x**2)) + (2*y) + z)\n",
        "  print(a)\n",
        "x = int(input('Givve the X value '))\n",
        "y = int(input('Give the Y value '))\n",
        "z = int(input('Givve the Z value '))\n",
        "a (x,y,z)\n",
        "\n",
        "\n"
      ],
      "metadata": {
        "colab": {
          "base_uri": "https://localhost:8080/"
        },
        "id": "OMntyfdSHlQ6",
        "outputId": "021b5aab-0c7a-4c14-e1d5-3d6c2599a2eb"
      },
      "execution_count": null,
      "outputs": [
        {
          "output_type": "stream",
          "name": "stdout",
          "text": [
            "Givve the X value 100\n",
            "Give the Y value 100\n",
            "Givve the Z value 25\n",
            "30225\n"
          ]
        }
      ]
    },
    {
      "cell_type": "code",
      "source": [
        "# 40 . Def Arithmatic Operators\n",
        "def add(a,b):\n",
        "    c=a+b\n",
        "    print('Adding result',c)\n",
        "def sub(a,b):\n",
        "    c=a-b\n",
        "    print('Subtrcting result',c)\n",
        "def mul(a,b):\n",
        "    c=a*b\n",
        "    print('Multipling result',c)\n",
        "def div(a,b):\n",
        "    c=a/b\n",
        "    print('Dividing result',c)\n",
        "a = int(input('Give the A value '))\n",
        "b = int(input('Givve the B value '))\n",
        "add(a,b)\n",
        "sub(a,b)\n",
        "mul(a,b)\n",
        "div(a,b)"
      ],
      "metadata": {
        "colab": {
          "base_uri": "https://localhost:8080/"
        },
        "id": "2eqPM_oqMCaV",
        "outputId": "d293c7ce-cc02-45d3-ab5d-8b66910c03c6"
      },
      "execution_count": null,
      "outputs": [
        {
          "output_type": "stream",
          "name": "stdout",
          "text": [
            "Give the A value 20\n",
            "Givve the B value 10\n",
            "Adding result 30\n",
            "Subtrcting result 10\n",
            "Multipling result 200\n",
            "Dividing result 2.0\n"
          ]
        }
      ]
    },
    {
      "cell_type": "code",
      "source": [
        "# 41 . Def Arithmatic Operators with Choice\n",
        "i=int(input('Give the first value '))\n",
        "j=int(input('Give the second value '))\n",
        "\n",
        "s=input('Do you want to continue...? yes or no')\n",
        "while(s=='yes' or s=='Yes'):\n",
        "\n",
        "    print('\\t\\t\\t Arithmatic Operaitions \\t\\t\\t')\n",
        "    print('\\t\\t\\t 1.Add \\t\\t\\t')\n",
        "    print('\\t\\t\\t 2.Sub \\t\\t\\t')\n",
        "    print('\\t\\t\\t 3.Mul \\t\\t\\t')\n",
        "    print('\\t\\t\\t 4.Div \\t\\t\\t')\n",
        "    print('\\t\\t\\t Others.Exit \\t\\t\\t')\n",
        "    cho=int(input('Give the Choice '))\n",
        "    if (cho==1):\n",
        "        print(\"Add : \",(i+j))\n",
        "    elif (cho==2):\n",
        "       print(\"Sub = \",(i-j))\n",
        "    elif (cho==3):\n",
        "        print(\"Mul = \",(i*j))\n",
        "    elif (cho==4):\n",
        "        print(\"Div = \",(i/j))\n",
        "    else:\n",
        "        print('Thank you')\n",
        "        break\n",
        "else:\n",
        "  print('Thank You')"
      ],
      "metadata": {
        "colab": {
          "base_uri": "https://localhost:8080/"
        },
        "id": "1kiVYIQENnNp",
        "outputId": "3ff476f5-52e3-4bbe-8180-9a22fda41c4d"
      },
      "execution_count": null,
      "outputs": [
        {
          "output_type": "stream",
          "name": "stdout",
          "text": [
            "Give the first value 10\n",
            "Give the second value 14\n",
            "Do you want to continue...? yes or noyes\n",
            "\t\t\t Arithmatic Operaitions \t\t\t\n",
            "\t\t\t 1.Add \t\t\t\n",
            "\t\t\t 2.Sub \t\t\t\n",
            "\t\t\t 3.Mul \t\t\t\n",
            "\t\t\t 4.Div \t\t\t\n",
            "\t\t\t Others.Exit \t\t\t\n",
            "Give the Choice 1\n",
            "Add :  24\n",
            "\t\t\t Arithmatic Operaitions \t\t\t\n",
            "\t\t\t 1.Add \t\t\t\n",
            "\t\t\t 2.Sub \t\t\t\n",
            "\t\t\t 3.Mul \t\t\t\n",
            "\t\t\t 4.Div \t\t\t\n",
            "\t\t\t Others.Exit \t\t\t\n",
            "Give the Choice 5\n",
            "Thank you\n"
          ]
        }
      ]
    },
    {
      "cell_type": "code",
      "source": [
        "# 42 .  Mr.vinay is a class teacher of class 12. he wants to conduct the test for their students on 5 subjects.\n",
        "#       Grade will be decided according to the marks.\"\"\"\n",
        "\n",
        "\n",
        "print('    Town Hr. Sec. School     ')\n",
        "print('        Kumbakonam        ')\n",
        "print('       Thanjavur(Dt)\\n\\n\\n        ')\n",
        "\n",
        "\n",
        "print('   Grade Sheet     ')\n",
        "Name = input('Name of the student :- ' )\n",
        "print('Class :- 12\\n')\n",
        "print('Grades :-\\n')\n",
        "Tamil = int(input('Tamil :- ' ))\n",
        "English = int(input('English :- ' ))\n",
        "Maths = int(input('Maths :- ' ))\n",
        "Physics = int(input('Physics :- ' ))\n",
        "Chemistry = int(input('Chemistry :- ' ))\n",
        "Biology = int(input('Biology :- ' ))\n",
        "\n",
        "Total=Tamil+English+Maths+Physics+Chemistry+Biology\n",
        "print(Total)\n",
        "Avg=Total/6\n",
        "print(\"You're Grade is :- \", Avg)\n",
        "if(Avg>80):\n",
        "    print(Name,\"You're Distinction\")\n",
        "elif(Avg>60):\n",
        "    print(Name,\"You're First Class\")\n",
        "elif(Avg>50):\n",
        "    print(Name,\"You're Second Class\")\n",
        "elif(Avg>40):\n",
        "    print(Name,\"You're Third Class\")\n",
        "else:\n",
        "    print(Name,\"You're fail. better luck next time\")\n"
      ],
      "metadata": {
        "id": "qfKoVjeWQtMF",
        "colab": {
          "base_uri": "https://localhost:8080/"
        },
        "outputId": "bf0dee7a-f0fe-44d6-ae8e-f468f36dfed8"
      },
      "execution_count": null,
      "outputs": [
        {
          "output_type": "stream",
          "name": "stdout",
          "text": [
            "    Town Hr. Sec. School     \n",
            "        Kumbakonam        \n",
            "       Thanjavur(Dt)\n",
            "\n",
            "\n",
            "        \n",
            "   Grade Sheet     \n",
            "Name of the student :- Sudharsan\n",
            "Class :- 12\n",
            "\n",
            "Grades :-\n",
            "\n",
            "Tamil :- 87\n",
            "English :- 88\n",
            "Maths :- 89\n",
            "Physics :- 91\n",
            "Chemistry :- 94\n",
            "Biology :- 88\n",
            "537\n",
            "You're Grade is :-  89.5\n",
            "Sudharsan You're Distinction\n"
          ]
        }
      ]
    },
    {
      "cell_type": "code",
      "source": [
        "# 43 . Table Format\n",
        "st = int(input('Give a Start Table : '))\n",
        "et = int(input('Give a End Table : '))\n",
        "ln = int(input('Last Num for each table : '))\n",
        "table_count=st\n",
        "while (table_count<=et):\n",
        "  c=1\n",
        "  while(c<=ln):\n",
        "        print(c, ' x ',table_count, ' = ', c*table_count)\n",
        "        c+=1\n",
        "  table_count=table_count+1"
      ],
      "metadata": {
        "colab": {
          "base_uri": "https://localhost:8080/"
        },
        "id": "LPiDoA9IIJ_a",
        "outputId": "cc18c2be-9b46-47b7-94ec-33c764187e41"
      },
      "execution_count": null,
      "outputs": [
        {
          "output_type": "stream",
          "name": "stdout",
          "text": [
            "Give a Start Table : 3\n",
            "Give a End Table : 5\n",
            "Last Num for each table : 5\n",
            "1  x  3  =  3\n",
            "2  x  3  =  6\n",
            "3  x  3  =  9\n",
            "4  x  3  =  12\n",
            "5  x  3  =  15\n",
            "1  x  4  =  4\n",
            "2  x  4  =  8\n",
            "3  x  4  =  12\n",
            "4  x  4  =  16\n",
            "5  x  4  =  20\n",
            "1  x  5  =  5\n",
            "2  x  5  =  10\n",
            "3  x  5  =  15\n",
            "4  x  5  =  20\n",
            "5  x  5  =  25\n"
          ]
        }
      ]
    },
    {
      "cell_type": "code",
      "source": [
        "# 44 . Multiplication table from n'th to m'th using For Loop.\n",
        "n = int(input('Start table : '))\n",
        "m = int(input('End table : '))\n",
        "a = int(input('Start table value : '))\n",
        "b = int(input('End table value : '))\n",
        "for i in range (n,(m+1),1):\n",
        "    for j in range (a,(b+1),1):\n",
        "        print(j, ' x ', i,' = ', i*j)"
      ],
      "metadata": {
        "colab": {
          "base_uri": "https://localhost:8080/"
        },
        "id": "rKDYuzK3LByG",
        "outputId": "20a85ac6-261b-4a29-83c4-08af1af0f5e3"
      },
      "execution_count": null,
      "outputs": [
        {
          "output_type": "stream",
          "name": "stdout",
          "text": [
            "Start table : 2\n",
            "End table : 5\n",
            "Start table value : 3\n",
            "End table value : 6\n",
            "3  x  2  =  6\n",
            "4  x  2  =  8\n",
            "5  x  2  =  10\n",
            "6  x  2  =  12\n",
            "3  x  3  =  9\n",
            "4  x  3  =  12\n",
            "5  x  3  =  15\n",
            "6  x  3  =  18\n",
            "3  x  4  =  12\n",
            "4  x  4  =  16\n",
            "5  x  4  =  20\n",
            "6  x  4  =  24\n",
            "3  x  5  =  15\n",
            "4  x  5  =  20\n",
            "5  x  5  =  25\n",
            "6  x  5  =  30\n"
          ]
        }
      ]
    },
    {
      "cell_type": "code",
      "source": [
        "# 45 .  Ms.Aruna is a non veg and she is going to attend a wedding function at Mylapore. This fest have combination of veg & non veg.\n",
        "#       there are 35 items in row. though she is non veg personnal she won't prefer to take chicken items. But there is 12,17,23 and 29 items are\n",
        "#       chicken items\n",
        "for food in range (1,36,1):\n",
        "    if(food==12):\n",
        "        print('This is chicken item')\n",
        "        continue\n",
        "    if(food==17):\n",
        "        print('This is chicken item')\n",
        "        continue\n",
        "    if(food==23):\n",
        "        print('This is chicken item')\n",
        "        continue\n",
        "    if(food==29):\n",
        "        print('This is chicken item')\n",
        "        continue\n",
        "    food=\"Suitable food\"\n",
        "    print(food)\n"
      ],
      "metadata": {
        "colab": {
          "base_uri": "https://localhost:8080/"
        },
        "id": "aUaUkpBSMb8A",
        "outputId": "19c8f8a6-a9d7-4352-9222-1ef5eefe98cd"
      },
      "execution_count": null,
      "outputs": [
        {
          "output_type": "stream",
          "name": "stdout",
          "text": [
            "Suitable food\n",
            "Suitable food\n",
            "Suitable food\n",
            "Suitable food\n",
            "Suitable food\n",
            "Suitable food\n",
            "Suitable food\n",
            "Suitable food\n",
            "Suitable food\n",
            "Suitable food\n",
            "Suitable food\n",
            "This is chicken item\n",
            "Suitable food\n",
            "Suitable food\n",
            "Suitable food\n",
            "Suitable food\n",
            "This is chicken item\n",
            "Suitable food\n",
            "Suitable food\n",
            "Suitable food\n",
            "Suitable food\n",
            "Suitable food\n",
            "This is chicken item\n",
            "Suitable food\n",
            "Suitable food\n",
            "Suitable food\n",
            "Suitable food\n",
            "Suitable food\n",
            "This is chicken item\n",
            "Suitable food\n",
            "Suitable food\n",
            "Suitable food\n",
            "Suitable food\n",
            "Suitable food\n",
            "Suitable food\n"
          ]
        }
      ]
    },
    {
      "cell_type": "code",
      "source": [
        "# 46 . Implement tuple operations.\n",
        "tup=(12,45,34,333,'sudhan',32,67,45,23,67,12,55,67,37)\n",
        "print('Index tup[5] : ',tup[5])\n",
        "print('Index tup[8] : ',tup[8])\n",
        "print('Total numbel of elements in tuple',len(tup))\n",
        "print('Index of word sudhan is',tup.index('sudhan'))\n",
        "print('Conut of element 67 is',tup.count(67))"
      ],
      "metadata": {
        "colab": {
          "base_uri": "https://localhost:8080/"
        },
        "id": "E79Jd9VLNmgZ",
        "outputId": "3bd9c2cf-b0be-4bdf-e983-5bf8a7af01a0"
      },
      "execution_count": null,
      "outputs": [
        {
          "output_type": "stream",
          "name": "stdout",
          "text": [
            "Index tup[5] :  32\n",
            "Index tup[8] :  23\n",
            "Total numbel of elements in tuple 14\n",
            "Index of word sudhan is 4\n",
            "Conut of element 67 is 3\n"
          ]
        }
      ]
    },
    {
      "cell_type": "code",
      "source": [
        "    \"\"\" Calc. area of diff. shapes using functions \"\"\"\n",
        "# 47 . No parameter No return type\n",
        "def add():\n",
        "    a=int(input('a value '))\n",
        "    b=int(input('b value '))\n",
        "    c=a+b\n",
        "    print('the addition is ',c)\n",
        "#main process\n",
        "add()"
      ],
      "metadata": {
        "colab": {
          "base_uri": "https://localhost:8080/"
        },
        "id": "EeE5f5ClOXnK",
        "outputId": "38333878-c151-4305-b990-541c73fa277f"
      },
      "execution_count": null,
      "outputs": [
        {
          "output_type": "stream",
          "name": "stdout",
          "text": [
            "a value 5\n",
            "b value 7\n",
            "the addition is  12\n"
          ]
        }
      ]
    },
    {
      "cell_type": "code",
      "source": [
        "# 48 . No parameter with return type\n",
        "def sub():\n",
        "    x=int(input('x value '))\n",
        "    y=int(input('y value '))\n",
        "    z=x-y\n",
        "    return(z)\n",
        "#main process\n",
        "s= sub()\n",
        "print('the value of subtraction is', s)"
      ],
      "metadata": {
        "colab": {
          "base_uri": "https://localhost:8080/"
        },
        "id": "iqDH9hobPyEZ",
        "outputId": "a68950cf-574f-44f5-d8d0-695907464329"
      },
      "execution_count": null,
      "outputs": [
        {
          "output_type": "stream",
          "name": "stdout",
          "text": [
            "x value 5\n",
            "y value 7\n",
            "the value of subtraction is -2\n"
          ]
        }
      ]
    },
    {
      "cell_type": "code",
      "source": [
        "# 49 . Parameter and No return type\n",
        "def mul(i,j):\n",
        "    k= i*j\n",
        "    print('the multiplication is ',k)\n",
        "#main process\n",
        "a=int(input('a value '))\n",
        "b=int(input('b value '))\n",
        "mul(a,b)"
      ],
      "metadata": {
        "colab": {
          "base_uri": "https://localhost:8080/"
        },
        "id": "MvjV3JdfP2Ni",
        "outputId": "4ef19c29-ebf4-460a-e7e7-77b3fcaaf315"
      },
      "execution_count": null,
      "outputs": [
        {
          "output_type": "stream",
          "name": "stdout",
          "text": [
            "a value 6\n",
            "b value 7\n",
            "the multiplication is  42\n"
          ]
        }
      ]
    },
    {
      "cell_type": "code",
      "source": [
        "# 50 . Parameter with return type\n",
        "def div(i,j):\n",
        "    k=i/j\n",
        "    return(k)\n",
        "#main process\n",
        "a=int(input('a value '))\n",
        "b=int(input('b value '))\n",
        "c=div(a,b)\n",
        "print('the division is',c)"
      ],
      "metadata": {
        "colab": {
          "base_uri": "https://localhost:8080/"
        },
        "id": "EtZx9qIyP5lS",
        "outputId": "78509c9a-3867-41b6-b847-094800e1b286"
      },
      "execution_count": null,
      "outputs": [
        {
          "output_type": "stream",
          "name": "stdout",
          "text": [
            "a value 10\n",
            "b value 20\n",
            "the division is 0.5\n"
          ]
        }
      ]
    },
    {
      "cell_type": "code",
      "source": [],
      "metadata": {
        "id": "7m_kS871sz0_"
      },
      "execution_count": null,
      "outputs": []
    },
    {
      "cell_type": "code",
      "source": [],
      "metadata": {
        "id": "slbVWVr1s11O"
      },
      "execution_count": null,
      "outputs": []
    },
    {
      "cell_type": "code",
      "source": [],
      "metadata": {
        "id": "4th87XLAs132"
      },
      "execution_count": null,
      "outputs": []
    },
    {
      "cell_type": "code",
      "source": [],
      "metadata": {
        "id": "TKWSyIkIs6nX"
      },
      "execution_count": null,
      "outputs": []
    },
    {
      "cell_type": "code",
      "source": [],
      "metadata": {
        "id": "DJmPbCyas6rF"
      },
      "execution_count": null,
      "outputs": []
    },
    {
      "cell_type": "code",
      "source": [],
      "metadata": {
        "id": "SI1d3B_cs6tp"
      },
      "execution_count": null,
      "outputs": []
    },
    {
      "cell_type": "code",
      "source": [],
      "metadata": {
        "id": "2mxfs1Ets60K"
      },
      "execution_count": null,
      "outputs": []
    },
    {
      "cell_type": "code",
      "source": [],
      "metadata": {
        "id": "OoDa-BTGs630"
      },
      "execution_count": null,
      "outputs": []
    },
    {
      "cell_type": "code",
      "source": [],
      "metadata": {
        "id": "OUpx_zTGs67d"
      },
      "execution_count": null,
      "outputs": []
    },
    {
      "cell_type": "code",
      "source": [],
      "metadata": {
        "id": "HTkUqVD4s6_S"
      },
      "execution_count": null,
      "outputs": []
    },
    {
      "cell_type": "code",
      "source": [],
      "metadata": {
        "id": "ds7tIJrTs7Bb"
      },
      "execution_count": null,
      "outputs": []
    },
    {
      "cell_type": "code",
      "source": [],
      "metadata": {
        "id": "9hrmsHZrs7FF"
      },
      "execution_count": null,
      "outputs": []
    },
    {
      "cell_type": "code",
      "source": [],
      "metadata": {
        "id": "2kqDVv0js7Ir"
      },
      "execution_count": null,
      "outputs": []
    },
    {
      "cell_type": "code",
      "source": [],
      "metadata": {
        "id": "t5m2X7-js7ME"
      },
      "execution_count": null,
      "outputs": []
    },
    {
      "cell_type": "code",
      "source": [],
      "metadata": {
        "id": "hnS4nJhJs7Pu"
      },
      "execution_count": null,
      "outputs": []
    }
  ]
}