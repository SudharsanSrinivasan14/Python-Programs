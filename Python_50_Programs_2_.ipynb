{
  "nbformat": 4,
  "nbformat_minor": 0,
  "metadata": {
    "colab": {
      "provenance": [],
      "authorship_tag": "ABX9TyNdbtYJwMbMdAyea3rlksID",
      "include_colab_link": true
    },
    "kernelspec": {
      "name": "python3",
      "display_name": "Python 3"
    },
    "language_info": {
      "name": "python"
    }
  },
  "cells": [
    {
      "cell_type": "markdown",
      "metadata": {
        "id": "view-in-github",
        "colab_type": "text"
      },
      "source": [
        "<a href=\"https://colab.research.google.com/github/SudharsanSrinivasan14/Python-Programs/blob/main/Python_50_Programs_2_.ipynb\" target=\"_parent\"><img src=\"https://colab.research.google.com/assets/colab-badge.svg\" alt=\"Open In Colab\"/></a>"
      ]
    },
    {
      "cell_type": "code",
      "execution_count": null,
      "metadata": {
        "colab": {
          "base_uri": "https://localhost:8080/"
        },
        "id": "Dd9Go2vL9_iv",
        "outputId": "f80a4ae4-94f6-4a7d-a02d-d1756ec7f3ec"
      },
      "outputs": [
        {
          "output_type": "stream",
          "name": "stdout",
          "text": [
            "number:5\n",
            "120\n"
          ]
        }
      ],
      "source": [
        "# 1 . python function to calc. the factorial of a number(non negative integer) :\n",
        "def factorial (n):\n",
        "    if n==0:\n",
        "        return 1\n",
        "    else:\n",
        "        return n*factorial(n-1)\n",
        "n=int(input('number:'))\n",
        "print(factorial(n))"
      ]
    },
    {
      "cell_type": "code",
      "source": [
        "# 2 . Map function: smaller to upper case animal names :\n",
        "animals = ['dogs','cats', 'lion','cow']\n",
        "name=list(map(lambda animals: animals.upper(),animals))\n",
        "print(name)"
      ],
      "metadata": {
        "colab": {
          "base_uri": "https://localhost:8080/"
        },
        "id": "DU6CmKVf-Saw",
        "outputId": "a773fb74-d5cc-4aac-adaf-6b5c93ac5f91"
      },
      "execution_count": null,
      "outputs": [
        {
          "output_type": "stream",
          "name": "stdout",
          "text": [
            "['DOGS', 'CATS', 'LION', 'COW']\n"
          ]
        }
      ]
    },
    {
      "cell_type": "code",
      "source": [
        "# 3 . Greater than 10 Filter function :\n",
        "lists=[12,3,4,5,6,65,43,55,21,7,54]\n",
        "ab=list(filter(lambda lists:lists>10,lists))\n",
        "print(ab)"
      ],
      "metadata": {
        "colab": {
          "base_uri": "https://localhost:8080/"
        },
        "id": "Sxa3BN2A-SYo",
        "outputId": "d3ee3ba9-8017-4bb5-e0b9-232bfdb88c8c"
      },
      "execution_count": null,
      "outputs": [
        {
          "output_type": "stream",
          "name": "stdout",
          "text": [
            "[12, 65, 43, 55, 21, 54]\n"
          ]
        }
      ]
    },
    {
      "cell_type": "code",
      "source": [
        "# 4 . Multiply with 10 and convert with tuple :\n",
        "lst=[1,2,3,4,5]\n",
        "mul=list(map(lambda mul: mul*10,lst))\n",
        "print('List :')\n",
        "print(mul)\n",
        "print('Tuple :')\n",
        "print(tuple(mul))"
      ],
      "metadata": {
        "colab": {
          "base_uri": "https://localhost:8080/"
        },
        "id": "cqnNDAK5-SVL",
        "outputId": "605f28f9-882e-463b-b9d7-3a91f36abfc4"
      },
      "execution_count": null,
      "outputs": [
        {
          "output_type": "stream",
          "name": "stdout",
          "text": [
            "List :\n",
            "[10, 20, 30, 40, 50]\n",
            "Tuple :\n",
            "(10, 20, 30, 40, 50)\n"
          ]
        }
      ]
    },
    {
      "cell_type": "code",
      "source": [
        "# 5 . Python program to print the square of a number in the list using list comprehension :\n",
        "lst=[1,2,3,4,5]\n",
        "lst_comp=[x**2 for x in lst]\n",
        "print(lst_comp)"
      ],
      "metadata": {
        "colab": {
          "base_uri": "https://localhost:8080/"
        },
        "id": "6qFcp2Rd-STI",
        "outputId": "f69fd95a-32ee-4ef5-b07d-1ddd64613265"
      },
      "execution_count": null,
      "outputs": [
        {
          "output_type": "stream",
          "name": "stdout",
          "text": [
            "[1, 4, 9, 16, 25]\n"
          ]
        }
      ]
    },
    {
      "cell_type": "code",
      "source": [
        "# 6 . Python program to print the square of a number in the list using lambda function :\n",
        "lst1=list(map(lambda lst:(lst**2),lst))\n",
        "print(lst1)"
      ],
      "metadata": {
        "colab": {
          "base_uri": "https://localhost:8080/"
        },
        "id": "7cpyhH79-SRB",
        "outputId": "0b46f815-5481-4757-8e63-8c5d7ace186a"
      },
      "execution_count": null,
      "outputs": [
        {
          "output_type": "stream",
          "name": "stdout",
          "text": [
            "[1, 4, 9, 16, 25]\n"
          ]
        }
      ]
    },
    {
      "cell_type": "code",
      "source": [
        "# 7 . Def Sqr a Number :\n",
        "def sqr(a):\n",
        "    print(a*a)\n",
        "a=int(input('Give a Number : '))\n",
        "sqr(a)"
      ],
      "metadata": {
        "colab": {
          "base_uri": "https://localhost:8080/"
        },
        "id": "Y60RN9CCAiWB",
        "outputId": "cec6f6dc-f82c-4d14-b102-259458850b60"
      },
      "execution_count": null,
      "outputs": [
        {
          "output_type": "stream",
          "name": "stdout",
          "text": [
            "Give a Number : 5\n",
            "25\n"
          ]
        }
      ]
    },
    {
      "cell_type": "code",
      "source": [
        "# 8 . Def . Biggest 4 Num :\n",
        "def big_4_num(a,b,c,d):\n",
        "    if (a>b and a>c and a>d):\n",
        "        print(\"A is big\")\n",
        "    elif (b>a and b>c and b>d):\n",
        "        print(\"B is big\")\n",
        "    elif (c>a and c>b and c>d):\n",
        "        print(\"C is big\")\n",
        "    else:\n",
        "        print(\"D is big\")\n",
        "a=int(input('Give A Number : '))\n",
        "b=int(input('Give B Number : '))\n",
        "c=int(input('Give C Number : '))\n",
        "d=int(input('Give D Number : '))\n",
        "big_4_num(a,b,c,d)"
      ],
      "metadata": {
        "colab": {
          "base_uri": "https://localhost:8080/"
        },
        "id": "k2dZ0l7kAomD",
        "outputId": "c5e3b2fe-f4d1-45d5-8f3c-c323d65cbb83"
      },
      "execution_count": null,
      "outputs": [
        {
          "output_type": "stream",
          "name": "stdout",
          "text": [
            "Give A Number : 20\n",
            "Give B Number : 34\n",
            "Give C Number : 55\n",
            "Give D Number : 13\n",
            "C is big\n"
          ]
        }
      ]
    },
    {
      "cell_type": "code",
      "source": [
        "# 9 . Generate a list of all the even numbers b/w 4 to 30 :\n",
        "l=[]\n",
        "for i in range (4,31,2):\n",
        "    l.append(i)\n",
        "print (l)"
      ],
      "metadata": {
        "colab": {
          "base_uri": "https://localhost:8080/"
        },
        "id": "kIf9CWlFAoiv",
        "outputId": "9df4eb67-b6af-4dc4-f87a-0423a5069aba"
      },
      "execution_count": null,
      "outputs": [
        {
          "output_type": "stream",
          "name": "stdout",
          "text": [
            "[4, 6, 8, 10, 12, 14, 16, 18, 20, 22, 24, 26, 28, 30]\n"
          ]
        }
      ]
    },
    {
      "cell_type": "code",
      "source": [
        "# 10 . Find the largest item in the list (User Input Values):\n",
        "num=int(input('Give a list count : '))\n",
        "l=[]\n",
        "for i in range (0,n):\n",
        "  num=int(input('Give a numbers : '))\n",
        "  l.append(num)\n",
        "print(max(l))"
      ],
      "metadata": {
        "colab": {
          "base_uri": "https://localhost:8080/"
        },
        "id": "OW_DAlssAogo",
        "outputId": "837b6bfd-d1a7-40f8-d14c-f6a53f5e4840"
      },
      "execution_count": null,
      "outputs": [
        {
          "output_type": "stream",
          "name": "stdout",
          "text": [
            "Give a list count : 5\n",
            "Give a numbers : 12\n",
            "Give a numbers : 13\n",
            "Give a numbers : 55\n",
            "Give a numbers : 12\n",
            "Give a numbers : 24\n",
            "55\n"
          ]
        }
      ]
    },
    {
      "cell_type": "code",
      "source": [
        "423# 11 . Def .Python functions to multiply all the numbers in a list (User Input Values):\n",
        "n=int(input('Give a list count : '))\n",
        "l=[]\n",
        "for i in range (0,n):\n",
        "    num=int(input('Give a numbers : '))\n",
        "    l.append(num)\n",
        "def multiply (l):\n",
        "        total=1\n",
        "        for x in l:\n",
        "            total=total*x\n",
        "        return total\n",
        "print(l)\n",
        "print(multiply(l))"
      ],
      "metadata": {
        "colab": {
          "base_uri": "https://localhost:8080/"
        },
        "id": "5HbST2O7EZAS",
        "outputId": "9db22346-e458-4e28-d37b-0ec4fca24252"
      },
      "execution_count": null,
      "outputs": [
        {
          "output_type": "stream",
          "name": "stdout",
          "text": [
            "Give a list count : 5\n",
            "Give a numbers : 12\n",
            "Give a numbers : 13\n",
            "Give a numbers : 1\n",
            "Give a numbers : 2\n",
            "Give a numbers : 3\n",
            "[12, 13, 1, 2, 3]\n",
            "936\n"
          ]
        }
      ]
    },
    {
      "cell_type": "code",
      "source": [
        "# 12 . Def . Python function to check whether a number falls within a given range:\n",
        "def test_range (n):\n",
        "  a=int(input('Give Start Range : '))\n",
        "  b=int(input('Give End Range : '))\n",
        "  if n in range (a,b):\n",
        "    print('With in range')\n",
        "  else:\n",
        "    print('Outside in range')\n",
        "n=int(input('Give a Number : '))\n",
        "test_range(n)"
      ],
      "metadata": {
        "colab": {
          "base_uri": "https://localhost:8080/"
        },
        "id": "pM3ugMvBG3zN",
        "outputId": "b09036ca-a57b-43fd-a148-2fec3012f22f"
      },
      "execution_count": null,
      "outputs": [
        {
          "output_type": "stream",
          "name": "stdout",
          "text": [
            "Give a Number : 3\n",
            "Give Start Range : 1\n",
            "Give End Range : 10\n",
            "With in range\n"
          ]
        }
      ]
    },
    {
      "cell_type": "code",
      "source": [
        "# 13 . Def . Sin Values :\n",
        "def sin(b,h):\n",
        "    sin=(b/h)\n",
        "    return(sin)\n",
        "b=int(input('Give b value : '))\n",
        "h=int(input('Give h value : '))\n",
        "sin(b,h)"
      ],
      "metadata": {
        "colab": {
          "base_uri": "https://localhost:8080/"
        },
        "id": "oerpktknG3vt",
        "outputId": "e4491355-3813-42b3-86cb-f5eefe003004"
      },
      "execution_count": null,
      "outputs": [
        {
          "name": "stdout",
          "output_type": "stream",
          "text": [
            "Give b value : 5\n",
            "Give h value : 4\n"
          ]
        },
        {
          "output_type": "execute_result",
          "data": {
            "text/plain": [
              "1.25"
            ]
          },
          "metadata": {},
          "execution_count": 25
        }
      ]
    },
    {
      "cell_type": "code",
      "source": [
        "# 14 . Sin Values using Lambda :\n",
        "sin=lambda b,h:b/h\n",
        "b=int(input('Give b value : '))\n",
        "h=int(input('Give h value : '))\n",
        "print(sin(b,h))"
      ],
      "metadata": {
        "colab": {
          "base_uri": "https://localhost:8080/"
        },
        "id": "xtNB2tenG3tQ",
        "outputId": "73b1fda2-ba6e-4413-dbd5-a3cdfb2639f1"
      },
      "execution_count": null,
      "outputs": [
        {
          "output_type": "stream",
          "name": "stdout",
          "text": [
            "Give b value : 5\n",
            "Give h value : 4\n",
            "1.25\n"
          ]
        }
      ]
    },
    {
      "cell_type": "code",
      "source": [
        "# 15 . A^2 + B^2 + 2(AB) using Lambda :\n",
        "ab=lambda a,b: (a*a)+(b*b)+(2*a*b)\n",
        "a=int(input('Give a value : '))\n",
        "b=int(input('Give b value : '))\n",
        "print(ab(a,b))"
      ],
      "metadata": {
        "colab": {
          "base_uri": "https://localhost:8080/"
        },
        "id": "avG5rOJ9G3q6",
        "outputId": "a5e5caf0-d2f6-45e7-9a4e-10f43c4e77b9"
      },
      "execution_count": null,
      "outputs": [
        {
          "output_type": "stream",
          "name": "stdout",
          "text": [
            "Give a value : 2\n",
            "Give b value : 3\n",
            "25\n"
          ]
        }
      ]
    },
    {
      "cell_type": "code",
      "source": [
        "# 16 . multiply with all list vaues using Lambda :\n",
        "n=int(input('Give a list count : '))\n",
        "s=[]\n",
        "for i in range (0,n):\n",
        "    num=int(input('Give a numbers : '))\n",
        "    s.append(num)\n",
        "mul = int(input('Give a Multiplying Value : '))\n",
        "sn=list(map(lambda s:(s*mul),s))\n",
        "print(s)\n",
        "print(sn)"
      ],
      "metadata": {
        "colab": {
          "base_uri": "https://localhost:8080/"
        },
        "id": "kS4oPlOfG3os",
        "outputId": "88e29a5e-0e4b-44b4-9325-185689d76ef9"
      },
      "execution_count": null,
      "outputs": [
        {
          "output_type": "stream",
          "name": "stdout",
          "text": [
            "Give a list count : 5\n",
            "Give a numbers : 1\n",
            "Give a numbers : 3\n",
            "Give a numbers : 5\n",
            "Give a numbers : 4\n",
            "Give a numbers : 2\n",
            "Give a Multiplying Value : 2\n",
            "[1, 3, 5, 4, 2]\n",
            "[2, 6, 10, 8, 4]\n"
          ]
        }
      ]
    },
    {
      "cell_type": "code",
      "source": [
        "# 17 . multiply with Odd values in list using Lambda :\n",
        "n=int(input('Give a list count : '))\n",
        "s=[]\n",
        "for i in range (0,n):\n",
        "    num=int(input('Give a numbers : '))\n",
        "    s.append(num)\n",
        "mul = int(input('Give a Multiplying Value : '))\n",
        "sn=list(filter(lambda s:((s%2!=0)*mul),s))\n",
        "print(s)\n",
        "print(sn)"
      ],
      "metadata": {
        "colab": {
          "base_uri": "https://localhost:8080/"
        },
        "id": "V33cgqKFG3mW",
        "outputId": "275d1ba9-047e-497f-e488-28d4658e67c4"
      },
      "execution_count": null,
      "outputs": [
        {
          "output_type": "stream",
          "name": "stdout",
          "text": [
            "Give a list count : 5\n",
            "Give a numbers : 1\n",
            "Give a numbers : 2\n",
            "Give a numbers : 3\n",
            "Give a numbers : 4\n",
            "Give a numbers : 5\n",
            "Give a Multiplying Value : 2\n",
            "[1, 2, 3, 4, 5]\n",
            "[1, 3, 5]\n"
          ]
        }
      ]
    },
    {
      "cell_type": "code",
      "source": [
        "# 18 . Give names in list and convert upper case using Lambda :\n",
        "n=int(input('Give a list count : '))\n",
        "name=[]\n",
        "for i in range (0,n):\n",
        "    nme=str(input('Give names : '))\n",
        "    name.append(nme)\n",
        "na=list(filter(lambda name: name.upper(),name))\n",
        "print(name)\n",
        "print(na)"
      ],
      "metadata": {
        "colab": {
          "base_uri": "https://localhost:8080/"
        },
        "id": "2K-k5PwrKnVZ",
        "outputId": "cfe174ee-4c50-40cc-a571-7b5f0e4ddc7c"
      },
      "execution_count": null,
      "outputs": [
        {
          "output_type": "stream",
          "name": "stdout",
          "text": [
            "Give a list count : 3\n",
            "Give names : sudhan\n",
            "Give names : siva\n",
            "Give names : anu\n",
            "['sudhan', 'siva', 'anu']\n",
            "['sudhan', 'siva', 'anu']\n"
          ]
        }
      ]
    },
    {
      "cell_type": "code",
      "source": [
        "# 19 .  Remove name in the Given names in list using Lambda :\n",
        "name=['sudhan', 'anu', 'banu', 'siva']\n",
        "na=list(filter(lambda name: (name=='sudhan'),name))\n",
        "print(na)"
      ],
      "metadata": {
        "colab": {
          "base_uri": "https://localhost:8080/"
        },
        "id": "PaoFvHZmKnSy",
        "outputId": "b3562637-909e-4bde-fe78-dd6b33214b8d"
      },
      "execution_count": null,
      "outputs": [
        {
          "output_type": "stream",
          "name": "stdout",
          "text": [
            "['sudhan']\n"
          ]
        }
      ]
    },
    {
      "cell_type": "code",
      "source": [
        "# 20 . Def . BMI Calc.\n",
        "def bmi(w,h):\n",
        "    bmi=w/h**2\n",
        "    print(bmi)\n",
        "\n",
        "    if(bmi==0 and bmi<18.5):\n",
        "        print(\"Under weight\")\n",
        "    elif(bmi>18.4 and bmi<23):\n",
        "        print(\"Normal weight\")\n",
        "    elif(bmi>23 and bmi<25):\n",
        "        print(\"Over weight\")\n",
        "    elif(bmi>25 and bmi<29.9):\n",
        "        print(\"Obese 1\")\n",
        "    else:\n",
        "        print(\"Obese 2\")\n",
        "\n",
        "w=float(input(\"Weight\"))\n",
        "h=float(input(\"Height\"))\n",
        "bmi(w,h)\n"
      ],
      "metadata": {
        "colab": {
          "base_uri": "https://localhost:8080/"
        },
        "id": "Br-LbBJDM7R-",
        "outputId": "9fbabac8-6210-4a85-801d-b490c6a83e36"
      },
      "execution_count": null,
      "outputs": [
        {
          "output_type": "stream",
          "name": "stdout",
          "text": [
            "Weight70\n",
            "Height3\n",
            "7.777777777777778\n",
            "Obese 2\n"
          ]
        }
      ]
    },
    {
      "cell_type": "code",
      "source": [
        "# 21 . Find a grades with User input :\n",
        "tamil=int(input('Tamil : '))\n",
        "english=int(input('English : '))\n",
        "maths=int(input('Maths : '))\n",
        "tot=(tamil+english+maths)\n",
        "avg=tot/3\n",
        "print ('Average is ',avg)\n",
        "if (avg>90):\n",
        "    print('Distinction')\n",
        "elif(avg>80 and avg <=90):\n",
        "    print('Fist Class with Dist.')\n",
        "elif (avg>60 and avg <=80):\n",
        "    print('First class')\n",
        "else:\n",
        "    print('Fail')"
      ],
      "metadata": {
        "colab": {
          "base_uri": "https://localhost:8080/"
        },
        "id": "zp2iRfNtNDgP",
        "outputId": "34085b38-fd54-42f9-ec4b-c02f6f7e95f5"
      },
      "execution_count": null,
      "outputs": [
        {
          "output_type": "stream",
          "name": "stdout",
          "text": [
            "Tamil : 77\n",
            "English : 69\n",
            "Maths : 89\n",
            "Average is  78.33333333333333\n",
            "First class\n"
          ]
        }
      ]
    },
    {
      "cell_type": "code",
      "source": [
        "# 22 . n'th steps calc. in between the A and B range :\n",
        "a=int(input('a : '))\n",
        "b=int(input('b : '))\n",
        "n=int(input('n : '))\n",
        "for i in range (a,b,n):\n",
        "    print(i)\n",
        "else:\n",
        "    print('Steps Over')"
      ],
      "metadata": {
        "colab": {
          "base_uri": "https://localhost:8080/"
        },
        "id": "ymcqitaWNY3b",
        "outputId": "2c143751-4d08-4936-8f71-625f40c63b57"
      },
      "execution_count": null,
      "outputs": [
        {
          "output_type": "stream",
          "name": "stdout",
          "text": [
            "a : 0\n",
            "b : 10\n",
            "n : 2\n",
            "0\n",
            "2\n",
            "4\n",
            "6\n",
            "8\n",
            "Steps Over\n"
          ]
        }
      ]
    },
    {
      "cell_type": "code",
      "source": [
        "# 23 . Eligible for Voting\n",
        "name=str(input('Give Your Name : '))\n",
        "a=int(input('Give Your Age : '))\n",
        "if(a>=18):\n",
        "    print(name,\"You're Eligible\")\n",
        "else:\n",
        "    print(name,\"You're uneligible\")"
      ],
      "metadata": {
        "id": "LdT-mWrqONlE",
        "colab": {
          "base_uri": "https://localhost:8080/"
        },
        "outputId": "00845c8b-346f-43ef-e8b3-80b8f38fff0d"
      },
      "execution_count": null,
      "outputs": [
        {
          "output_type": "stream",
          "name": "stdout",
          "text": [
            "Give Your Name : Sudhan\n",
            "Give Your Age : 28\n",
            "Sudhan You're Eligible\n"
          ]
        }
      ]
    },
    {
      "cell_type": "code",
      "source": [
        "# 24 . Def . Eligible for Voting\n",
        "def voting (a):\n",
        "    if(a>=18):\n",
        "        print(name,\"You're Eligible\")\n",
        "    else:\n",
        "        print(name,\"You're uneligible\")\n",
        "name=str(input('Give Your Name : '))\n",
        "a=int(input('Give Your Age : '))\n",
        "voting (a)"
      ],
      "metadata": {
        "colab": {
          "base_uri": "https://localhost:8080/"
        },
        "id": "y54JhdMROq3s",
        "outputId": "6c51eeb2-8323-4d30-b49b-b514351d3d81"
      },
      "execution_count": null,
      "outputs": [
        {
          "output_type": "stream",
          "name": "stdout",
          "text": [
            "Give Your Name : Sudhan\n",
            "Give Your Age : 28\n",
            "Sudhan You're Eligible\n"
          ]
        }
      ]
    },
    {
      "cell_type": "code",
      "source": [
        "# 25 . Break - While Loop:\n",
        "a=int(input('Give Range : '))\n",
        "b=int(input('Give Terminate Value : '))\n",
        "c=0\n",
        "while (c<=a):\n",
        "    print(c)\n",
        "    c+=1\n",
        "    if (c==b):\n",
        "        break\n",
        "print ('Loop Terminated')"
      ],
      "metadata": {
        "colab": {
          "base_uri": "https://localhost:8080/"
        },
        "id": "TJ1R3GKLOq0P",
        "outputId": "8cfdc924-ea6e-478a-e8d2-a9b096158ec5"
      },
      "execution_count": null,
      "outputs": [
        {
          "output_type": "stream",
          "name": "stdout",
          "text": [
            "Give Range : 5\n",
            "Give Terminate Value : 3\n",
            "0\n",
            "1\n",
            "2\n",
            "Loop Terminated\n"
          ]
        }
      ]
    },
    {
      "cell_type": "code",
      "source": [
        "# 26 . Break - For Loop:\n",
        "a=int(input('Give Start Range : '))\n",
        "b=int(input('Give End Range : '))\n",
        "c=int(input('Give Terminate Value : '))\n",
        "for i in range (a,b):\n",
        "    if (i==c):\n",
        "        break\n",
        "        print ('Loop Terminated')\n",
        "    print(i)"
      ],
      "metadata": {
        "colab": {
          "base_uri": "https://localhost:8080/"
        },
        "id": "slUJucxzOqw4",
        "outputId": "d06d7561-2f86-4ca4-a0e9-cab2949c1775"
      },
      "execution_count": null,
      "outputs": [
        {
          "output_type": "stream",
          "name": "stdout",
          "text": [
            "Give Start Range : 1\n",
            "Give End Range : 6\n",
            "Give Terminate Value : 3\n",
            "1\n",
            "2\n"
          ]
        }
      ]
    },
    {
      "cell_type": "code",
      "source": [
        "# 27 . Continue - While Loop:\n",
        "a=int(input('Give Range : '))\n",
        "b=int(input('Give Terminate Value : '))\n",
        "c=0\n",
        "while (c<=a):\n",
        "    print(c)\n",
        "    c+=1\n",
        "    if (c==b):\n",
        "        print ('Current Loop Terminated')\n",
        "        continue"
      ],
      "metadata": {
        "colab": {
          "base_uri": "https://localhost:8080/"
        },
        "id": "jCAa7cFlOqu1",
        "outputId": "64117b50-4ab3-407b-a8c7-a75abe99fb5b"
      },
      "execution_count": null,
      "outputs": [
        {
          "output_type": "stream",
          "name": "stdout",
          "text": [
            "Give Range : 6\n",
            "Give Terminate Value : 3\n",
            "0\n",
            "1\n",
            "2\n",
            "Current Loop Terminated\n",
            "3\n",
            "4\n",
            "5\n",
            "6\n"
          ]
        }
      ]
    },
    {
      "cell_type": "code",
      "source": [
        "# 28 . Continue - For Loop:\n",
        "a=int(input('Give Start Range : '))\n",
        "b=int(input('Give End Range : '))\n",
        "c=int(input('Give Terminate Value : '))\n",
        "for i in range (a,b):\n",
        "    if (i==c):\n",
        "        print ('Current Loop Terminated')\n",
        "        continue\n",
        "    print(i)"
      ],
      "metadata": {
        "colab": {
          "base_uri": "https://localhost:8080/"
        },
        "id": "aDqJqKG0OqtB",
        "outputId": "7ac0d537-7b19-4526-c190-277d128ec343"
      },
      "execution_count": null,
      "outputs": [
        {
          "output_type": "stream",
          "name": "stdout",
          "text": [
            "Give Start Range : 1\n",
            "Give End Range : 6\n",
            "Give Terminate Value : 3\n",
            "1\n",
            "2\n",
            "Current Loop Terminated\n",
            "4\n",
            "5\n"
          ]
        }
      ]
    },
    {
      "cell_type": "code",
      "source": [
        "# 29 . Continue divisible by 5 - For Loop:\n",
        "a=int(input('Give Start Range : '))\n",
        "b=int(input('Give End Range : '))\n",
        "for i in range (a,b):\n",
        "    if (i%5==0):\n",
        "        print ('Current Loop Terminated')\n",
        "        continue\n",
        "    print(i)"
      ],
      "metadata": {
        "colab": {
          "base_uri": "https://localhost:8080/"
        },
        "id": "ocW9fHUCOqrq",
        "outputId": "b345c605-8859-4421-8a83-83ccda964aca"
      },
      "execution_count": null,
      "outputs": [
        {
          "output_type": "stream",
          "name": "stdout",
          "text": [
            "Give Start Range : 1\n",
            "Give End Range : 20\n",
            "1\n",
            "2\n",
            "3\n",
            "4\n",
            "Current Loop Terminated\n",
            "6\n",
            "7\n",
            "8\n",
            "9\n",
            "Current Loop Terminated\n",
            "11\n",
            "12\n",
            "13\n",
            "14\n",
            "Current Loop Terminated\n",
            "16\n",
            "17\n",
            "18\n",
            "19\n"
          ]
        }
      ]
    },
    {
      "cell_type": "code",
      "source": [
        "# 30 . Sum of ODD num using While loop:\n",
        "a=int(input('Give Range : '))\n",
        "c=1\n",
        "sum1=0\n",
        "while(c<=a):\n",
        "    if(c%2!=0):\n",
        "        sum1=sum1+c\n",
        "    c+=1\n",
        "print(sum1)"
      ],
      "metadata": {
        "colab": {
          "base_uri": "https://localhost:8080/"
        },
        "id": "MxkxF1OGOqpt",
        "outputId": "6f16c00b-14d3-48c4-e7b3-dc7fbbafb6f8"
      },
      "execution_count": null,
      "outputs": [
        {
          "output_type": "stream",
          "name": "stdout",
          "text": [
            "Give Range : 10\n",
            "25\n"
          ]
        }
      ]
    },
    {
      "cell_type": "code",
      "source": [
        "# 31 . Counting vowels in given word\n",
        "vowel=['a','e','i','o','u']\n",
        "word=str(input('Give a word : '))\n",
        "count=0\n",
        "for character in word:\n",
        "    if character in vowel:\n",
        "        count+=1\n",
        "print(count)"
      ],
      "metadata": {
        "colab": {
          "base_uri": "https://localhost:8080/"
        },
        "id": "CA5hMsuzOqnf",
        "outputId": "03253d6c-01ed-4ea7-850c-890f7be7bff5"
      },
      "execution_count": null,
      "outputs": [
        {
          "output_type": "stream",
          "name": "stdout",
          "text": [
            "Give a word : sudharsan\n",
            "3\n"
          ]
        }
      ]
    },
    {
      "cell_type": "code",
      "source": [
        "# 32 . Give (User Input) List and square the values using Lambda :\n",
        "a=int(input('Give List Count : '))\n",
        "l=[]\n",
        "for i in range (0,a):\n",
        "    num=int(input('Give Value : '))\n",
        "    l.append(num)\n",
        "print(l)\n",
        "x=list(map(lambda l:l**2,l))\n",
        "print('Square Values : ',x)"
      ],
      "metadata": {
        "colab": {
          "base_uri": "https://localhost:8080/"
        },
        "id": "w8AYJQMbOqlb",
        "outputId": "eba5a914-283c-4c44-b5ce-61fa13c221d3"
      },
      "execution_count": null,
      "outputs": [
        {
          "output_type": "stream",
          "name": "stdout",
          "text": [
            "Give List Count : 5\n",
            "Give Value : 1\n",
            "Give Value : 2\n",
            "Give Value : 3\n",
            "Give Value : 4\n",
            "Give Value : 5\n",
            "[1, 2, 3, 4, 5]\n",
            "Square Values :  [1, 4, 9, 16, 25]\n"
          ]
        }
      ]
    },
    {
      "cell_type": "code",
      "source": [
        "# 33 . Give (User Input) List and view Odd values using Lambda MAP :\n",
        "a=int(input('Give List Count : '))\n",
        "l=[]\n",
        "for i in range (0,a):\n",
        "    num=int(input('Give Value : '))\n",
        "    l.append(num)\n",
        "print(l)\n",
        "x=list(map(lambda l:(l%2!=0),l))\n",
        "print(x)"
      ],
      "metadata": {
        "colab": {
          "base_uri": "https://localhost:8080/"
        },
        "id": "hxXhKd-dOqkQ",
        "outputId": "8ac14998-945f-4c22-a807-207a548e73d7"
      },
      "execution_count": null,
      "outputs": [
        {
          "output_type": "stream",
          "name": "stdout",
          "text": [
            "Give List Count : 5\n",
            "Give Value : 1\n",
            "Give Value : 2\n",
            "Give Value : 3\n",
            "Give Value : 4\n",
            "Give Value : 5\n",
            "[1, 2, 3, 4, 5]\n",
            "[True, False, True, False, True]\n"
          ]
        }
      ]
    },
    {
      "cell_type": "code",
      "source": [
        "# 34 . Give (User Input) List and view Odd values using Lambda FILTER :\n",
        "a=int(input('Give List Count : '))\n",
        "l=[]\n",
        "for i in range (0,a):\n",
        "    num=int(input('Give Value : '))\n",
        "    l.append(num)\n",
        "print(l)\n",
        "x=list(filter(lambda l:(l%2!=0),l))\n",
        "print('Odd Values :',x)"
      ],
      "metadata": {
        "colab": {
          "base_uri": "https://localhost:8080/"
        },
        "id": "ZF9cO1MLOqiE",
        "outputId": "d432e1ee-8f56-44eb-d983-cba892dac790"
      },
      "execution_count": null,
      "outputs": [
        {
          "output_type": "stream",
          "name": "stdout",
          "text": [
            "Give List Count : 5\n",
            "Give Value : 1\n",
            "Give Value : 2\n",
            "Give Value : 3\n",
            "Give Value : 4\n",
            "Give Value : 5\n",
            "[1, 2, 3, 4, 5]\n",
            "Odd Values : [1, 3, 5]\n"
          ]
        }
      ]
    },
    {
      "cell_type": "code",
      "source": [
        "# 35 . Membership Operators:\n",
        "a=str(input('Give a Word : '))\n",
        "let=str(input('Give a Letter : '))\n",
        "print(let in a)"
      ],
      "metadata": {
        "colab": {
          "base_uri": "https://localhost:8080/"
        },
        "id": "AM3QRetNOqeT",
        "outputId": "53afa312-79f7-4aed-bb37-2f1254b985d6"
      },
      "execution_count": null,
      "outputs": [
        {
          "output_type": "stream",
          "name": "stdout",
          "text": [
            "Give a Word : sudharsan\n",
            "Give a Letter : u\n",
            "True\n"
          ]
        }
      ]
    },
    {
      "cell_type": "code",
      "source": [
        "# 36 . Pattern\n",
        "n=int(input('Give Value : '))\n",
        "for i in range(1,n+1):\n",
        "  for j in range(1,i+1):\n",
        "    print(' * ', end=\" \")\n",
        "  print()\n",
        "for i in range(n-1,0,-1):\n",
        "  for j in range(i,0,-1):\n",
        "    print(' * ', end=\" \")\n",
        "  print()"
      ],
      "metadata": {
        "colab": {
          "base_uri": "https://localhost:8080/"
        },
        "id": "yXHrJYynOqcl",
        "outputId": "2703840f-a5d7-40da-b98b-5a5cfa914c7c"
      },
      "execution_count": null,
      "outputs": [
        {
          "output_type": "stream",
          "name": "stdout",
          "text": [
            "Give Value : 5\n",
            " *  \n",
            " *   *  \n",
            " *   *   *  \n",
            " *   *   *   *  \n",
            " *   *   *   *   *  \n",
            " *   *   *   *  \n",
            " *   *   *  \n",
            " *   *  \n",
            " *  \n"
          ]
        }
      ]
    },
    {
      "cell_type": "code",
      "source": [
        "# 37 . Pattern\n",
        "n=int(input('Give Value : '))\n",
        "for i in range(1,n+1):\n",
        "  for j in range(1,i+1):\n",
        "    print(' * ', end=\" \")\n",
        "  print()"
      ],
      "metadata": {
        "colab": {
          "base_uri": "https://localhost:8080/"
        },
        "id": "V8sA1fJOU_IH",
        "outputId": "22d9d967-dbbd-45be-f6e3-49a7121c214f"
      },
      "execution_count": null,
      "outputs": [
        {
          "output_type": "stream",
          "name": "stdout",
          "text": [
            "Give Value : 5\n",
            " *  \n",
            " *   *  \n",
            " *   *   *  \n",
            " *   *   *   *  \n",
            " *   *   *   *   *  \n"
          ]
        }
      ]
    },
    {
      "cell_type": "code",
      "source": [
        "# 38 . Pattern\n",
        "n=int(input('Give Value : '))\n",
        "for i in range(n,0,-1):\n",
        "  for j in range(i,0,-1):\n",
        "    print(' * ', end=\" \")\n",
        "  print()"
      ],
      "metadata": {
        "colab": {
          "base_uri": "https://localhost:8080/"
        },
        "id": "w9qCLzXYU_Bn",
        "outputId": "55e56fb0-2b9d-430d-98bc-bed617447bae"
      },
      "execution_count": null,
      "outputs": [
        {
          "output_type": "stream",
          "name": "stdout",
          "text": [
            "Give Value : 5\n",
            " *   *   *   *   *  \n",
            " *   *   *   *  \n",
            " *   *   *  \n",
            " *   *  \n",
            " *  \n"
          ]
        }
      ]
    },
    {
      "cell_type": "code",
      "source": [
        "# 39 . Pattern\n",
        "n=int(input('Give Value : '))\n",
        "a=1\n",
        "for i in range(1,n+1):\n",
        "  for j in range(1,i+1):\n",
        "    print(a, end=\" \")\n",
        "  print()\n",
        "  a+=1"
      ],
      "metadata": {
        "colab": {
          "base_uri": "https://localhost:8080/"
        },
        "id": "SX5sPT7mTAA6",
        "outputId": "9645558a-40ae-401c-b8b9-cc5893251aff"
      },
      "execution_count": null,
      "outputs": [
        {
          "output_type": "stream",
          "name": "stdout",
          "text": [
            "Give Value : 5\n",
            "1 \n",
            "2 2 \n",
            "3 3 3 \n",
            "4 4 4 4 \n",
            "5 5 5 5 5 \n"
          ]
        }
      ]
    },
    {
      "cell_type": "code",
      "source": [
        "# 40 . Pattern\n",
        "n=int(input('Give Value : '))\n",
        "a=n\n",
        "for i in range(n,0,-1):\n",
        "  for j in range(i,0,-1):\n",
        "    print(a, end=\" \")\n",
        "  print()\n",
        "  a-=1"
      ],
      "metadata": {
        "colab": {
          "base_uri": "https://localhost:8080/"
        },
        "id": "pXpGCfP8T7AM",
        "outputId": "775dfffb-a1cd-4bd7-e575-920c244c9ca9"
      },
      "execution_count": null,
      "outputs": [
        {
          "output_type": "stream",
          "name": "stdout",
          "text": [
            "Give Value : 5\n",
            "5 5 5 5 5 \n",
            "4 4 4 4 \n",
            "3 3 3 \n",
            "2 2 \n",
            "1 \n"
          ]
        }
      ]
    },
    {
      "cell_type": "code",
      "source": [
        "# 41 . Pattern\n",
        "n=int(input('Give Value : '))\n",
        "a=1\n",
        "for i in range(1,n+1):\n",
        "  for j in range(1,i+1):\n",
        "    print(a, end=\" \")\n",
        "  print()\n",
        "  a+=1\n",
        "a=n-1\n",
        "for i in range(n-1,0,-1):\n",
        "  for j in range(i,0,-1):\n",
        "    print(a, end=\" \")\n",
        "  print()\n",
        "  a-=1"
      ],
      "metadata": {
        "colab": {
          "base_uri": "https://localhost:8080/"
        },
        "id": "m1QGzuolTvoR",
        "outputId": "6a61613f-ed96-48c4-db34-964249cdfeb4"
      },
      "execution_count": null,
      "outputs": [
        {
          "output_type": "stream",
          "name": "stdout",
          "text": [
            "Give Value : 5\n",
            "1 \n",
            "2 2 \n",
            "3 3 3 \n",
            "4 4 4 4 \n",
            "5 5 5 5 5 \n",
            "4 4 4 4 \n",
            "3 3 3 \n",
            "2 2 \n",
            "1 \n"
          ]
        }
      ]
    },
    {
      "cell_type": "code",
      "source": [
        "# 42 . Pattern\n",
        "a=int(input('Give Value : '))\n",
        "for i in range (a,0,-1):\n",
        "    for j in range (i,0,-1):\n",
        "        print(' * ',end=\" \")\n",
        "    print()"
      ],
      "metadata": {
        "colab": {
          "base_uri": "https://localhost:8080/"
        },
        "id": "DcY5zETUOqau",
        "outputId": "e1af5f1d-b841-4819-e80a-c1ec1adf6d12"
      },
      "execution_count": null,
      "outputs": [
        {
          "output_type": "stream",
          "name": "stdout",
          "text": [
            "Give Value : 5\n",
            " *   *   *   *   *  \n",
            " *   *   *   *  \n",
            " *   *   *  \n",
            " *   *  \n",
            " *  \n"
          ]
        }
      ]
    },
    {
      "cell_type": "code",
      "source": [
        "# 43 . Pattern\n",
        "n=int(input('Give Value : '))\n",
        "for i in range (n):\n",
        "    print(' ' * (n-i-1) + ' * ' * (i+1))\n",
        "for i in range (n-1):\n",
        "    print(' ' * (i+1) + ' * ' * (n-i-1))"
      ],
      "metadata": {
        "colab": {
          "base_uri": "https://localhost:8080/"
        },
        "id": "nDjxT7MIOqY1",
        "outputId": "e8493bc9-990c-4b43-8fd3-74b2f779565f"
      },
      "execution_count": null,
      "outputs": [
        {
          "output_type": "stream",
          "name": "stdout",
          "text": [
            "Give Value : 5\n",
            "     * \n",
            "    *  * \n",
            "   *  *  * \n",
            "  *  *  *  * \n",
            " *  *  *  *  * \n",
            "  *  *  *  * \n",
            "   *  *  * \n",
            "    *  * \n",
            "     * \n"
          ]
        }
      ]
    },
    {
      "cell_type": "code",
      "source": [
        "# 44 . Pattern\n",
        "n=int(input())\n",
        "for i in range(1,n+1):\n",
        "    for j in range(1,i+1):\n",
        "        print(\"*\",end=\" \")\n",
        "    print()\n",
        "for i in range(n-1,0,-1):\n",
        "    for j in range(i,0,-1):\n",
        "        print(\"*\",end=\" \")\n",
        "    print()"
      ],
      "metadata": {
        "colab": {
          "base_uri": "https://localhost:8080/"
        },
        "id": "EtBliUHGKnPL",
        "outputId": "09a94bc2-d020-41bf-a346-7edaa46f7543"
      },
      "execution_count": null,
      "outputs": [
        {
          "output_type": "stream",
          "name": "stdout",
          "text": [
            "3\n",
            "* \n",
            "* * \n",
            "* * * \n",
            "* * \n",
            "* \n"
          ]
        }
      ]
    },
    {
      "cell_type": "code",
      "source": [
        "# 45 . Pattern\n",
        "n=int(input())\n",
        "a=1\n",
        "for i in range(1,n+1):\n",
        "    for j in range(1,i+1):\n",
        "        print(a,end=\" \")\n",
        "    print()\n",
        "    a=a+1\n",
        "a=n-1\n",
        "for i in range(n-1,0,-1):\n",
        "    for j in range(i,0,-1):\n",
        "        print(a,end=\" \")\n",
        "    print()\n",
        "    a=a-1"
      ],
      "metadata": {
        "colab": {
          "base_uri": "https://localhost:8080/"
        },
        "id": "-htoOnETKnMw",
        "outputId": "6e5c8949-f754-400e-82c4-21ff9d478f69"
      },
      "execution_count": null,
      "outputs": [
        {
          "output_type": "stream",
          "name": "stdout",
          "text": [
            "3\n",
            "1 \n",
            "2 2 \n",
            "3 3 3 \n",
            "2 2 \n",
            "1 \n"
          ]
        }
      ]
    },
    {
      "cell_type": "code",
      "source": [
        "# 46 . Lambda with if:\n",
        "a=int(input('Give A Value : '))\n",
        "b=int(input('Give B Value : '))\n",
        "big=lambda a,b: a if (a>b) else b\n",
        "print(big(a,b))"
      ],
      "metadata": {
        "colab": {
          "base_uri": "https://localhost:8080/"
        },
        "id": "MdxPg3LjOqW3",
        "outputId": "0e61f732-efdc-4284-f204-5bc3ed219c87"
      },
      "execution_count": null,
      "outputs": [
        {
          "output_type": "stream",
          "name": "stdout",
          "text": [
            "Give A Value : 10\n",
            "Give B Value : 9\n",
            "10\n"
          ]
        }
      ]
    },
    {
      "cell_type": "code",
      "source": [
        "# 47 . Age>18 Lambda:\n",
        "n=int(input('Give Count : '))\n",
        "l=[]\n",
        "for i in range (1,n+1):\n",
        "  num=int(input('Give Value : '))\n",
        "  l.append(num)\n",
        "print(l)\n",
        "age=l\n",
        "ages=list(filter(lambda age : age>18,age))\n",
        "ages"
      ],
      "metadata": {
        "id": "SqevsWUcOqVC",
        "colab": {
          "base_uri": "https://localhost:8080/"
        },
        "outputId": "586949cc-2356-4d4b-de88-65776865a3a0"
      },
      "execution_count": null,
      "outputs": [
        {
          "output_type": "stream",
          "name": "stdout",
          "text": [
            "Give Count : 5\n",
            "Give Value : 12\n",
            "Give Value : 33\n",
            "Give Value : 42\n",
            "Give Value : 11\n",
            "Give Value : 7\n",
            "[12, 33, 42, 11, 7]\n"
          ]
        },
        {
          "output_type": "execute_result",
          "data": {
            "text/plain": [
              "[33, 42]"
            ]
          },
          "metadata": {},
          "execution_count": 3
        }
      ]
    },
    {
      "cell_type": "code",
      "source": [
        "# 48 . Import Random Number :\n",
        "import random\n",
        "x=int(input('Give a X value : '))\n",
        "y=int(input('Give a Y value : '))\n",
        "print (random.randrange(x,y))"
      ],
      "metadata": {
        "id": "JneaSbv1OqRY",
        "colab": {
          "base_uri": "https://localhost:8080/"
        },
        "outputId": "456d04d3-9941-4987-c508-83b560321604"
      },
      "execution_count": null,
      "outputs": [
        {
          "output_type": "stream",
          "name": "stdout",
          "text": [
            "Give a X value : 14\n",
            "Give a Y value : 45\n",
            "17\n"
          ]
        }
      ]
    },
    {
      "cell_type": "code",
      "source": [
        "# 49 . Today :\n",
        "import datetime\n",
        "x=datetime.datetime.now()\n",
        "print('Today in Full Form :')\n",
        "print(x.strftime('%A'))\n",
        "print('Today in Short Form :')\n",
        "print(x.strftime('%a'))\n",
        "print('Days of Month (0 to 31) :')\n",
        "print(x.strftime('%d'))"
      ],
      "metadata": {
        "id": "3ZyacXP8OqPg",
        "colab": {
          "base_uri": "https://localhost:8080/"
        },
        "outputId": "9a3b0e88-82fe-4042-e4e8-9394494f2896"
      },
      "execution_count": null,
      "outputs": [
        {
          "output_type": "stream",
          "name": "stdout",
          "text": [
            "Today in Full Form :\n",
            "Tuesday\n",
            "Today in Short Form :\n",
            "Tue\n",
            "Days of Month (0 to 31) :\n",
            "16\n"
          ]
        }
      ]
    },
    {
      "cell_type": "code",
      "source": [
        "# 50 . Week And Day Count :\n",
        "import datetime\n",
        "x=datetime.datetime.now()\n",
        "print('Day no.of the week ((0 to 6) - 0 is sunday) :')\n",
        "print(x.strftime('%w'))\n",
        "print('Week no. of the Year :')\n",
        "print(x.strftime('%W'))"
      ],
      "metadata": {
        "id": "Aioljv5cOqNO",
        "colab": {
          "base_uri": "https://localhost:8080/"
        },
        "outputId": "1a54dfce-b31b-47fd-b317-b6021e9c7f9c"
      },
      "execution_count": null,
      "outputs": [
        {
          "output_type": "stream",
          "name": "stdout",
          "text": [
            "Day no.of the week ((0 to 6) - 0 is sunday) :\n",
            "2\n",
            "Week no. of the Year :\n",
            "03\n"
          ]
        }
      ]
    },
    {
      "cell_type": "code",
      "source": [
        "# 51 . Month :\n",
        "import datetime\n",
        "x=datetime.datetime.now()\n",
        "print('Month in Full Form :')\n",
        "print(x.strftime('%B'))\n",
        "print('Month in Short Form :')\n",
        "print(x.strftime('%b'))\n",
        "print('Month Number :')\n",
        "print(x.strftime('%m'))"
      ],
      "metadata": {
        "id": "q2PhaNkbOqLG",
        "colab": {
          "base_uri": "https://localhost:8080/"
        },
        "outputId": "427d9a4b-be3f-4fdc-afa9-8cc278dbb017"
      },
      "execution_count": null,
      "outputs": [
        {
          "output_type": "stream",
          "name": "stdout",
          "text": [
            "Month in Full Form :\n",
            "January\n",
            "Month in Short Form :\n",
            "Jan\n",
            "Month Number :\n",
            "01\n"
          ]
        }
      ]
    },
    {
      "cell_type": "code",
      "source": [
        "# 52 . Year :\n",
        "import datetime\n",
        "x=datetime.datetime.now()\n",
        "print('Year in Full Form :')\n",
        "print(x.strftime('%Y'))\n",
        "print('Year in Short Form :')\n",
        "print(x.strftime('%y'))"
      ],
      "metadata": {
        "id": "EuTF3mBDOqI4",
        "colab": {
          "base_uri": "https://localhost:8080/"
        },
        "outputId": "d557c838-bbfb-4c24-9101-293378f566ef"
      },
      "execution_count": null,
      "outputs": [
        {
          "output_type": "stream",
          "name": "stdout",
          "text": [
            "Year in Full Form :\n",
            "2024\n",
            "Year in Short Form :\n",
            "24\n"
          ]
        }
      ]
    },
    {
      "cell_type": "code",
      "source": [
        "# 53 . Time :\n",
        "import datetime\n",
        "x=datetime.datetime.now()\n",
        "print('Local version of Date and Time :')\n",
        "print(x.strftime('%c'))\n",
        "print('Local version of Date :')\n",
        "print(x.strftime('%x'))"
      ],
      "metadata": {
        "id": "ZKi-9T_8OqG3",
        "colab": {
          "base_uri": "https://localhost:8080/"
        },
        "outputId": "cea04788-85c6-4e18-b6e0-fb016a7fd2f8"
      },
      "execution_count": null,
      "outputs": [
        {
          "output_type": "stream",
          "name": "stdout",
          "text": [
            "Local version of Date and Time :\n",
            "Tue Jan 16 04:39:13 2024\n",
            "Local version of Date :\n",
            "01/16/24\n"
          ]
        }
      ]
    },
    {
      "cell_type": "code",
      "source": [
        "# 54 . Def . Avg Marks :\n",
        "def marks(a,b,c,d=50):\n",
        "    avg=(a+b+c+d)/4\n",
        "    print(avg)\n",
        "a=int(input('Give a Marks : '))\n",
        "b=int(input('Give a Marks : '))\n",
        "c=int(input('Give a Marks : '))\n",
        "marks(a,b,c)"
      ],
      "metadata": {
        "colab": {
          "base_uri": "https://localhost:8080/"
        },
        "id": "N2KN3nE8lawQ",
        "outputId": "943b4fb9-363b-438d-b7b2-7657835f9ffd"
      },
      "execution_count": null,
      "outputs": [
        {
          "output_type": "stream",
          "name": "stdout",
          "text": [
            "Give a Marks : 70\n",
            "Give a Marks : 89\n",
            "Give a Marks : 90\n",
            "74.75\n"
          ]
        }
      ]
    },
    {
      "cell_type": "code",
      "source": [
        "# 55 . Ticket Booking\n",
        "print('\\t\\t\\t   Welcome to Sudhan Travels \\t\\t\\t')\n",
        "print('\\t\\t PUNCTUAL ... CLEAN ... COMFORTABLE \\t\\t\\t')\n",
        "name=str(input('Give your name : '))\n",
        "print('\\nYour user name is', name)\n",
        "print('\\t\\t\\tTicket Booking\\t\\t\\t')\n",
        "print('\\n\\t\\t\\tBoarding Point : Tiruchirapalli\\t\\t\\t')\n",
        "print('\\t\\t\\tDropping Point : Chennai\\t\\t\\t')\n",
        "print('\\n\\t\\t   Please Select Options')\n",
        "s=print('\\n\\t\\t\\t 1. Train \\n\\t\\t\\t 2. Bus \\n\\t\\t\\t 3. Flight')\n",
        "\n",
        "cho=int(input('\\nWhat would you like to travel on...(1,2 or 3) : '))\n",
        "if(cho==1):\n",
        "    print('\\n\\t\\t   Tain Ticket ')\n",
        "    D=int(input('Please Select Date : '))\n",
        "    M=int(input('Please Select Your Month : '))\n",
        "    Y=int(input('Please Select Your Year : '))\n",
        "    print('Your Date Is, ',D,'/',M,'/',Y)\n",
        "    print('\\n\\t\\t   Please Select Options')\n",
        "    c=print('\\n\\t\\t\\t 1. 3A \\n\\t\\t\\t 2. 2A \\n\\t\\t\\t 3. SL')\n",
        "    cho1=int(input('\\nWhat would you like to travel on...(1,2 or 3) : '))\n",
        "    if (cho1==1):\n",
        "        print('\\nTicket Price rs.1105/head')\n",
        "        mem=int(input('Please Select Members Count : '))\n",
        "        tot= (mem*1105) + (mem*(1105*0.05))\n",
        "        print('\\nTiruchirapalli to Chennai :',D,'/',M,'/',Y,'11:30 pm')\n",
        "        print('Ticket price of ',mem,'is : ',tot ,'(inclusive of GST 5%)' )\n",
        "        print('\\n\\t\\t   Thank You for booking train ticket with Sudhan Travels... ')\n",
        "    elif (cho1==2):\n",
        "        print('\\nTicket Price rs.1405/head')\n",
        "        mem=int(input('Please Select Members Count : '))\n",
        "        tot= (mem*1405) + (mem*(1405*0.05))\n",
        "        print('\\nTiruchirapalli to Chennai :',D,'/',M,'/',Y,'11:30 pm')\n",
        "        print('Ticket price of ',mem,'is : ',tot ,'(inclusive of GST 5%)' )\n",
        "        print('\\n\\t\\t   Thank You for booking train ticket with Sudhan Travels... ')\n",
        "    elif (cho1==3):\n",
        "        print('\\nTicket Price rs.407/head')\n",
        "        mem=int(input('Please Select Members Count : '))\n",
        "        tot= (mem*407) + (mem*(407*0.05))\n",
        "        print('\\nTiruchirapalli to Chennai :',D,'/',M,'/',Y,'11:30 pm')\n",
        "        print('Ticket price of ',mem,'is : ',tot ,'(inclusive of GST 5%)' )\n",
        "        print('\\n\\t\\t   Thank You for booking train ticket with Sudhan Travels... ')\n",
        "    else:\n",
        "        print('\\n\\t\\t   choose correct Option and try again... ')\n",
        "elif(cho==2):\n",
        "    print('\\n\\t\\t   Bus Ticket ')\n",
        "    D=int(input('Please Select Date : '))\n",
        "    M=int(input('Please Select Your Month : '))\n",
        "    Y=int(input('Please Select Your Year : '))\n",
        "    print('Your Date Is, ',D,'/',M,'/',Y)\n",
        "    print('\\n\\t\\t   Please Select Options')\n",
        "    c=print('\\n\\t\\t\\t 1. Double SL \\n\\t\\t\\t 2. Single SL \\n\\t\\t\\t 3. Seat')\n",
        "    cho2=int(input('\\nWhat would you like to travel on...(1,2 or 3) : '))\n",
        "    if (cho2==1):\n",
        "        print('\\nBus Price rs.700/head')\n",
        "        mem=int(input('Please Select Members Count : '))\n",
        "        tot= (mem*700) + (mem*(700*0.035))\n",
        "        print('\\nTiruchirapalli to Chennai :',D,'/',M,'/',Y,'10:30 pm')\n",
        "        print('Ticket price of ',mem,'is : ',tot ,'(inclusive of GST 3.5%)' )\n",
        "        print('\\n\\t\\t   Thank You for booking Bus ticket with Sudhan Travels... ')\n",
        "    elif (cho2==2):\n",
        "        print('\\nBus Price rs.650/head')\n",
        "        mem=int(input('Please Select Members Count : '))\n",
        "        tot= (mem*650) + (mem*(650*0.035))\n",
        "        print('\\nTiruchirapalli to Chennai :',D,'/',M,'/',Y,'10:30 pm')\n",
        "        print('Ticket price of ',mem,'is : ',tot ,'(inclusive of GST 3.5%)' )\n",
        "        print('\\n\\t\\t   Thank You for booking Bus ticket with Sudhan Travels... ')\n",
        "    elif (cho2==3):\n",
        "        print('\\nBus Price rs.290/head')\n",
        "        mem=int(input('Please Select Members Count : '))\n",
        "        tot= (mem*290) + (mem*(290*0.035))\n",
        "        print('\\nTiruchirapalli to Chennai :',D,'/',M,'/',Y,'10:30 pm')\n",
        "        print('Ticket price of ',mem,'is : ',tot ,'(inclusive of GST 3.5%)' )\n",
        "        print('\\n\\t\\t   Thank You for booking Bus ticket with Sudhan Travels... ')\n",
        "    else:\n",
        "        print('\\n\\t\\t   choose correct Option and try again... ')\n",
        "elif(cho==3):\n",
        "    print('\\n\\t\\t   Flight Ticket ')\n",
        "    D=int(input('Please Select Date : '))\n",
        "    M=int(input('Please Select Your Month : '))\n",
        "    Y=int(input('Please Select Your Year : '))\n",
        "    print('Your Date Is, ',D,'/',M,'/',Y)\n",
        "    print('\\n\\t\\t   Please Select Options')\n",
        "    c=print('\\n\\t\\t\\t 1. Economy \\n\\t\\t\\t 2. Premium Economy \\n\\t\\t\\t 3. Business')\n",
        "    cho3=int(input('\\nWhat would you like to travel on...(1,2 or 3) : '))\n",
        "    if (cho3==1):\n",
        "        print('\\nFlight Price rs.2543/head')\n",
        "        mem=int(input('Please Select Members Count : '))\n",
        "        tot= (mem*2543) + (mem*(2543*0.065))\n",
        "        print('\\nTiruchirapalli to Chennai :',D,'/',M,'/',Y,'6:20 pm')\n",
        "        print('Ticket Economy price of ',mem,'is : ',tot ,'(inclusive of GST 6.5%)' )\n",
        "        print('***Check-in-Bag 15kg   Hand Bag 7kg***')\n",
        "        print('\\n\\t\\t   Thank You for booking Flight ticket with Sudhan Travels... ')\n",
        "    elif (cho3==2):\n",
        "        print('\\nFlight Premium Economy Price rs.3627/head')\n",
        "        mem=int(input('Please Select Members Count : '))\n",
        "        tot= (mem*3627) + (mem*(3627*0.065))\n",
        "        print('\\nTiruchirapalli to Chennai :',D,'/',M,'/',Y,'6:20 pm')\n",
        "        print('Ticket price of ',mem,'is : ',tot ,'(inclusive of GST 6.5%)' )\n",
        "        print('***Check-in-Bag 20kg   Hand Bag 7kg***')\n",
        "        print('\\n\\t\\t   Thank You for booking Flight ticket with Sudhan Travels... ')\n",
        "    elif (cho3==3):\n",
        "        print('\\nFlight Business Price rs.7443/head')\n",
        "        mem=int(input('Please Select Members Count : '))\n",
        "        tot= (mem*7443) + (mem*(7443*0.065))\n",
        "        print('\\nTiruchirapalli to Chennai :',D,'/',M,'/',Y,'6:20 pm')\n",
        "        print('Ticket price of ',mem,'is : ',tot ,'(inclusive of GST 6.5%)' )\n",
        "        print('***Check-in-Bag 25kg   Hand Bag 10kg***')\n",
        "        print('\\n\\t\\t   Thank You for booking Flight ticket with Sudhan Travels... ')\n",
        "    else:\n",
        "        print('\\n\\t\\t   choose correct Option and try again... ')\n",
        "else:\n",
        "        print('\\n\\t\\t   choose correct Option and try again... ')"
      ],
      "metadata": {
        "colab": {
          "base_uri": "https://localhost:8080/"
        },
        "id": "2iCHRluQkQ6t",
        "outputId": "d85c04b8-0c2b-40bd-ce9c-4298e365f6ed"
      },
      "execution_count": null,
      "outputs": [
        {
          "output_type": "stream",
          "name": "stdout",
          "text": [
            "\t\t\t   Welcome to Sudhan Travels \t\t\t\n",
            "\t\t PUNCTUAL ... CLEAN ... COMFORTABLE \t\t\t\n",
            "Give your name : Sudharsan\n",
            "\n",
            "Your user name is Sudharsan\n",
            "\t\t\tTicket Booking\t\t\t\n",
            "\n",
            "\t\t\tBoarding Point : Tiruchirapalli\t\t\t\n",
            "\t\t\tDropping Point : Chennai\t\t\t\n",
            "\n",
            "\t\t   Please Select Options\n",
            "\n",
            "\t\t\t 1. Train \n",
            "\t\t\t 2. Bus \n",
            "\t\t\t 3. Flight\n",
            "\n",
            "What would you like to travel on...(1,2 or 3) : 3\n",
            "\n",
            "\t\t   Flight Ticket \n",
            "Please Select Date : 14\n",
            "Please Select Your Month : 06\n",
            "Please Select Your Year : 2024\n",
            "Your Date Is,  14 / 6 / 2024\n",
            "\n",
            "\t\t   Please Select Options\n",
            "\n",
            "\t\t\t 1. Economy \n",
            "\t\t\t 2. Premium Economy \n",
            "\t\t\t 3. Business\n",
            "\n",
            "What would you like to travel on...(1,2 or 3) : 3\n",
            "\n",
            "Flight Business Price rs.7443/head\n",
            "Please Select Members Count : 1\n",
            "\n",
            "Tiruchirapalli to Chennai : 14 / 6 / 2024 6:20 pm\n",
            "Ticket price of  1 is :  7926.795 (inclusive of GST 6.5%)\n",
            "***Check-in-Bag 25kg   Hand Bag 10kg***\n",
            "\n",
            "\t\t   Thank You for booking Flight ticket with Sudhan Travels... \n"
          ]
        }
      ]
    },
    {
      "cell_type": "code",
      "source": [
        "# 56 . Movie Ticket Bookings\n",
        "print('\\t\\t\\t Welcome \\t\\t\\t')\n",
        "print('\\t\\tTicket Booking\\t\\t')\n",
        "members= int (input ('Members Count : '))\n",
        "print(' Do You Want Popcorn...? 50rs/Popcorn')\n",
        "snacks = str(input('Snakcs ... Yes or NO ... :  '))\n",
        "\n",
        "if (snacks =='Yes' or snacks == 'YES' or snacks == 'yes'):\n",
        "    pc = int (input ('Popcorn Count : '))\n",
        "    b = (members * 150) + (pc * 50)\n",
        "    print(\"Ticket With Popcorn price : \", b)\n",
        "    print('\\nDetails : ')\n",
        "    print(\"(\",members,\" x 150) + \",\"(\",pc,\" x 50) = \", b)\n",
        "    print('\\nDo You Want Parking ...?' )\n",
        "    Parking = str(input('Parking ... Yes or NO ... :  '))\n",
        "    if (Parking =='Yes' or Parking == 'YES' or Parking == 'yes'):\n",
        "        vehicle = str(input('\\nBike = 25/rs or Car = 50/rs : ' ))\n",
        "        if (vehicle == 'Bike' or vehicle == 'bike' or vehicle == 'BIKE'):\n",
        "            print('\\nTicket With Parking :',b+25)\n",
        "            print('Thank You')\n",
        "        else:\n",
        "            print('\\nTicket With Parking :',b+50)\n",
        "            print('Thank You')\n",
        "\n",
        "    else:\n",
        "        print('Thank You')\n",
        "else:\n",
        "    a = (members * 150)\n",
        "    print(\"Ticket price : \",a)\n",
        "    print('\\nDetails : ')\n",
        "    print(\"(\",members,\" x 150) = \",a)\n",
        "    print('\\nDo You Want Parking ...?' )\n",
        "    Parking = str(input('Parking ... Yes or NO ... :  '))\n",
        "    if (Parking =='Yes' or Parking == 'YES' or Parking == 'yes'):\n",
        "        vehicle = str(input('\\nBike = 25/rs or Car = 50/rs : ' ))\n",
        "        if (vehicle == 'Bike' or vehicle == 'bike' or vehicle == 'BIKE'):\n",
        "            print('\\nTicket With Parking : ',a+25)\n",
        "            print('Thank You')\n",
        "        elif(vehicle == 'Car' or vehicle == 'car' or vehicle == 'CAR'):\n",
        "            print('\\nTicket With Parking :',a+50)\n",
        "            print('Thank You')\n",
        "        else:\n",
        "            print('choose properly and try again')\n",
        "    else:\n",
        "        print('Thank You')"
      ],
      "metadata": {
        "colab": {
          "base_uri": "https://localhost:8080/"
        },
        "id": "eh0ogSLXkQ3S",
        "outputId": "3a058d85-b380-46a7-b4cc-51a7019e198e"
      },
      "execution_count": null,
      "outputs": [
        {
          "output_type": "stream",
          "name": "stdout",
          "text": [
            "\t\t\t Welcome \t\t\t\n",
            "\t\tTicket Booking\t\t\n",
            "Members Count : 3\n",
            " Do You Want Popcorn...? 50rs/Popcorn\n",
            "Snakcs ... Yes or NO ... :  yes\n",
            "Popcorn Count : 3\n",
            "Ticket With Popcorn price :  600\n",
            "\n",
            "Details : \n",
            "( 3  x 150) +  ( 3  x 50) =  600\n",
            "\n",
            "Do You Want Parking ...?\n",
            "Parking ... Yes or NO ... :  yes\n",
            "\n",
            "Bike = 25/rs or Car = 50/rs : bike\n",
            "\n",
            "Ticket With Parking : 625\n",
            "Thank You\n"
          ]
        }
      ]
    }
  ]
}